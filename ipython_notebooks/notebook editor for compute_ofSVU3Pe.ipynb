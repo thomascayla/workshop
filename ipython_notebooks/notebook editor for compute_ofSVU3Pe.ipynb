{
  "metadata": {
    "kernelspec": {
      "name": "python3",
      "display_name": "Python 3",
      "language": "python"
    },
    "associatedRecipe": "compute_ofSVU3Pe",
    "dkuGit": {
      "lastInteraction": 0
    },
    "creationTag": {
      "versionNumber": 0,
      "lastModifiedBy": {
        "login": "admin"
      },
      "lastModifiedOn": 1669043388937
    },
    "creator": "admin",
    "createdOn": 1669043388937,
    "tags": [
      "recipe-editor"
    ],
    "customFields": {},
    "hide_input": false,
    "language_info": {
      "name": "python",
      "version": "3.7.13",
      "mimetype": "text/x-python",
      "codemirror_mode": {
        "name": "ipython",
        "version": 3
      },
      "pygments_lexer": "ipython3",
      "nbconvert_exporter": "python",
      "file_extension": ".py"
    },
    "modifiedBy": "admin"
  },
  "nbformat": 4,
  "nbformat_minor": 1,
  "cells": [
    {
      "execution_count": 122,
      "cell_type": "code",
      "metadata": {},
      "source": [
        "# -*- coding: utf-8 -*-\n%matplotlib inline\nimport dataiku\nimport pandas as pd, numpy as np\nfrom dataiku import pandasutils as pdu\nimport matplotlib.pyplot as plt\nimport os"
      ],
      "outputs": []
    },
    {
      "execution_count": 123,
      "cell_type": "code",
      "metadata": {},
      "source": [
        "# Read recipe inputs\ntransactions_known_scored \u003d dataiku.Dataset(\"transactions_known_scored\").get_dataframe()"
      ],
      "outputs": []
    },
    {
      "execution_count": 124,
      "cell_type": "code",
      "metadata": {},
      "source": [
        "list_var \u003d [\u0027authorized_flag\u0027,\u0027proba_1\u0027]\ntransactions_known_scored \u003d transactions_known_scored[list_var]\ntransactions_known_scored[\u0027decile\u0027] \u003d pd.cut(x\u003dtransactions_known_scored.proba_1,\n                                             bins\u003d10, precision\u003d1, right\u003dFalse)\ntransactions_known_scored.decile \u003d transactions_known_scored.decile.astype(str)"
      ],
      "outputs": []
    },
    {
      "execution_count": 125,
      "cell_type": "code",
      "metadata": {},
      "source": [
        "col_names \u003d {\u0027authorized_flag\u0027:\u0027sum_true\u0027, \u0027proba_1\u0027:\u0027count_pred\u0027}\ndf_by_deciles \u003d transactions_known_scored.groupby(by\u003d\u0027decile\u0027).agg({\u0027authorized_flag\u0027:\u0027sum\u0027,\n                                                                    \u0027proba_1\u0027:\u0027count\u0027}).rename(columns\u003dcol_names)"
      ],
      "outputs": []
    },
    {
      "execution_count": 126,
      "cell_type": "code",
      "metadata": {},
      "source": [
        "df_by_deciles[\u0027validation_ratio\u0027] \u003d df_by_deciles.sum_true/df_by_deciles.count_pred\ndf_by_deciles.sort_index(ascending\u003dTrue, inplace\u003dTrue)"
      ],
      "outputs": []
    },
    {
      "execution_count": 127,
      "cell_type": "code",
      "metadata": {},
      "source": [
        "df_by_deciles.head()"
      ],
      "outputs": [
        {
          "output_type": "execute_result",
          "execution_count": 127,
          "data": {
            "text/plain": "             sum_true  count_pred  validation_ratio\ndecile                                             \n[0.02, 0.1)        46         225          0.204444\n[0.1, 0.2)         57         281          0.202847\n[0.2, 0.3)        713        1671          0.426691\n[0.3, 0.4)       8066       11490          0.702002\n[0.4, 0.5)      32283       36433          0.886092",
            "text/html": "\n            \u003cbutton style\u003d\"display:none\" \n            class\u003d\"btn btn-default ipython-export-btn\" \n            id\u003d\"btn-df-33a4cd04-9d86-4e24-bd97-7623f7f993ea\" \n            onclick\u003d\"_export_df(\u002733a4cd04-9d86-4e24-bd97-7623f7f993ea\u0027)\"\u003e\n                Export dataframe\n            \u003c/button\u003e\n            \n            \u003cscript\u003e\n                \n                function _check_export_df_possible(dfid,yes_fn,no_fn) {\n                    console.log(\u0027Checking dataframe exportability...\u0027)\n                    if(!IPython || !IPython.notebook || !IPython.notebook.kernel || !IPython.notebook.kernel) {\n                        console.log(\u0027Export is not possible (IPython kernel is not available)\u0027)\n                        if(no_fn) {\n                            no_fn();\n                        }\n                    } else {\n                        var pythonCode \u003d \u0027from dataiku.notebook.export import IPythonExporter;IPythonExporter._check_export_stdout(\"\u0027+dfid+\u0027\")\u0027;\n                        IPython.notebook.kernel.execute(pythonCode,{iopub: {output: function(resp) {\n                            console.info(\"Exportability response\", resp);\n                            var size \u003d /^([0-9]+)x([0-9]+)$/.exec(resp.content.data || resp.content.text)\n                            if(!size) {\n                                console.log(\u0027Export is not possible (dataframe is not in-memory anymore)\u0027)\n                                if(no_fn) {\n                                    no_fn();\n                                }\n                            } else {\n                                console.log(\u0027Export is possible\u0027)\n                                if(yes_fn) {\n                                    yes_fn(1*size[1],1*size[2]);\n                                }\n                            }\n                        }}});\n                    }\n                }\n            \n                function _export_df(dfid) {\n                    \n                    var btn \u003d $(\u0027#btn-df-\u0027+dfid);\n                    var btns \u003d $(\u0027.ipython-export-btn\u0027);\n                    \n                    _check_export_df_possible(dfid,function() {\n                        \n                        window.parent.openExportModalFromIPython(\u0027Pandas dataframe\u0027,function(data) {\n                            btns.prop(\u0027disabled\u0027,true);\n                            btn.text(\u0027Exporting...\u0027);\n                            var command \u003d \u0027from dataiku.notebook.export import IPythonExporter;IPythonExporter._run_export(\"\u0027+dfid+\u0027\",\"\u0027+data.exportId+\u0027\")\u0027;\n                            var callback \u003d {iopub:{output: function(resp) {\n                                console.info(\"CB resp:\", resp);\n                                _check_export_df_possible(dfid,function(rows, cols) {\n                                    $(\u0027#btn-df-\u0027+dfid)\n                                        .css(\u0027display\u0027,\u0027inline-block\u0027)\n                                        .text(\u0027Export this dataframe (\u0027+rows+\u0027 rows, \u0027+cols+\u0027 cols)\u0027)\n                                        .prop(\u0027disabled\u0027,false);\n                                },function() {\n                                    $(\u0027#btn-df-\u0027+dfid).css(\u0027display\u0027,\u0027none\u0027);\n                                });\n                            }}};\n                            IPython.notebook.kernel.execute(command,callback,{silent:false}); // yes, silent now defaults to true. figures.\n                        });\n                    \n                    }, function(){\n                            alert(\u0027Unable to export : the Dataframe object is not loaded in memory\u0027);\n                            btn.css(\u0027display\u0027,\u0027none\u0027);\n                    });\n                    \n                }\n                \n                (function(dfid) {\n                \n                    var retryCount \u003d 10;\n                \n                    function is_valid_websock(s) {\n                        return s \u0026\u0026 s.readyState\u003d\u003d1;\n                    }\n                \n                    function check_conn() {\n                        \n                        if(!IPython || !IPython.notebook) {\n                            // Don\u0027t even try to go further\n                            return;\n                        }\n                        \n                        // Check if IPython is ready\n                        console.info(\"Checking conn ...\")\n                        if(IPython.notebook.kernel\n                        \u0026\u0026 IPython.notebook.kernel\n                        \u0026\u0026 is_valid_websock(IPython.notebook.kernel.ws)\n                        ) {\n                            \n                            _check_export_df_possible(dfid,function(rows, cols) {\n                                $(\u0027#btn-df-\u0027+dfid).css(\u0027display\u0027,\u0027inline-block\u0027);\n                                $(\u0027#btn-df-\u0027+dfid).text(\u0027Export this dataframe (\u0027+rows+\u0027 rows, \u0027+cols+\u0027 cols)\u0027);\n                            });\n                            \n                        } else {\n                            console.info(\"Conditions are not ok\", IPython.notebook.kernel);\n                            \n                            // Retry later\n                            \n                            if(retryCount\u003e0) {\n                                setTimeout(check_conn,500);\n                                retryCount--;\n                            }\n                            \n                        }\n                    };\n                    \n                    setTimeout(check_conn,100);\n                    \n                })(\"33a4cd04-9d86-4e24-bd97-7623f7f993ea\");\n                \n            \u003c/script\u003e\n            \n        \u003cdiv\u003e\n\u003cstyle scoped\u003e\n    .dataframe tbody tr th:only-of-type {\n        vertical-align: middle;\n    }\n\n    .dataframe tbody tr th {\n        vertical-align: top;\n    }\n\n    .dataframe thead th {\n        text-align: right;\n    }\n\u003c/style\u003e\n\u003ctable border\u003d\"1\" class\u003d\"dataframe\"\u003e\n  \u003cthead\u003e\n    \u003ctr style\u003d\"text-align: right;\"\u003e\n      \u003cth\u003e\u003c/th\u003e\n      \u003cth\u003esum_true\u003c/th\u003e\n      \u003cth\u003ecount_pred\u003c/th\u003e\n      \u003cth\u003evalidation_ratio\u003c/th\u003e\n    \u003c/tr\u003e\n    \u003ctr\u003e\n      \u003cth\u003edecile\u003c/th\u003e\n      \u003cth\u003e\u003c/th\u003e\n      \u003cth\u003e\u003c/th\u003e\n      \u003cth\u003e\u003c/th\u003e\n    \u003c/tr\u003e\n  \u003c/thead\u003e\n  \u003ctbody\u003e\n    \u003ctr\u003e\n      \u003cth\u003e[0.02, 0.1)\u003c/th\u003e\n      \u003ctd\u003e46\u003c/td\u003e\n      \u003ctd\u003e225\u003c/td\u003e\n      \u003ctd\u003e0.204444\u003c/td\u003e\n    \u003c/tr\u003e\n    \u003ctr\u003e\n      \u003cth\u003e[0.1, 0.2)\u003c/th\u003e\n      \u003ctd\u003e57\u003c/td\u003e\n      \u003ctd\u003e281\u003c/td\u003e\n      \u003ctd\u003e0.202847\u003c/td\u003e\n    \u003c/tr\u003e\n    \u003ctr\u003e\n      \u003cth\u003e[0.2, 0.3)\u003c/th\u003e\n      \u003ctd\u003e713\u003c/td\u003e\n      \u003ctd\u003e1671\u003c/td\u003e\n      \u003ctd\u003e0.426691\u003c/td\u003e\n    \u003c/tr\u003e\n    \u003ctr\u003e\n      \u003cth\u003e[0.3, 0.4)\u003c/th\u003e\n      \u003ctd\u003e8066\u003c/td\u003e\n      \u003ctd\u003e11490\u003c/td\u003e\n      \u003ctd\u003e0.702002\u003c/td\u003e\n    \u003c/tr\u003e\n    \u003ctr\u003e\n      \u003cth\u003e[0.4, 0.5)\u003c/th\u003e\n      \u003ctd\u003e32283\u003c/td\u003e\n      \u003ctd\u003e36433\u003c/td\u003e\n      \u003ctd\u003e0.886092\u003c/td\u003e\n    \u003c/tr\u003e\n  \u003c/tbody\u003e\n\u003c/table\u003e\n\u003c/div\u003e"
          },
          "metadata": {}
        }
      ]
    },
    {
      "execution_count": 128,
      "cell_type": "code",
      "metadata": {},
      "source": [
        "labels \u003d list(df_by_deciles.index)\nsum_true \u003d list(df_by_deciles.sum_true)\ncount_pred \u003d list(df_by_deciles.count_pred)\nvalidation_ratio \u003d list(df_by_deciles.validation_ratio)\nwidth \u003d 2/3 # the width of the bars\n\nfig, ax1 \u003d plt.subplots(figsize\u003d(12, 6))\nax1.bar(labels, count_pred, width, label\u003d\u0027count_pred\u0027)\nax1.bar(labels, sum_true, width, bottom\u003dcount_pred, label\u003d\u0027sum_true\u0027)\ncolor \u003d \u0027b\u0027\nax1.set_ylabel(\u0027Volume\u0027, color\u003dcolor)\nax1.tick_params(\u0027y\u0027, colors\u003dcolor)\nax1.legend()\n\nax2 \u003d ax1.twinx()\ncolor \u003d \u0027r\u0027\nax2.plot(labels, validation_ratio, color\u003dcolor)\nax2.set_ylabel(\u0027Percentage\u0027, color\u003dcolor)\nax2.tick_params(\u0027y\u0027, colors\u003dcolor)\n\n#plt.title(\u0027\u0027)\nfig.tight_layout()\nplt.show()"
      ],
      "outputs": [
        {
          "output_type": "error",
          "ename": "NameError",
          "evalue": "name \u0027v\u0027 is not defined",
          "traceback": [
            "\u001b[0;31m---------------------------------------------------------------------------\u001b[0m",
            "\u001b[0;31mNameError\u001b[0m                                 Traceback (most recent call last)",
            "\u001b[0;32m\u003cipython-input-128-bbc39b190fdb\u003e\u001b[0m in \u001b[0;36m\u003cmodule\u003e\u001b[0;34m()\u001b[0m\n\u001b[1;32m      8\u001b[0m \u001b[0max1\u001b[0m\u001b[0;34m.\u001b[0m\u001b[0mbar\u001b[0m\u001b[0;34m(\u001b[0m\u001b[0mlabels\u001b[0m\u001b[0;34m,\u001b[0m \u001b[0mcount_pred\u001b[0m\u001b[0;34m,\u001b[0m \u001b[0mwidth\u001b[0m\u001b[0;34m,\u001b[0m \u001b[0mlabel\u001b[0m\u001b[0;34m\u003d\u001b[0m\u001b[0;34m\u0027count_pred\u0027\u001b[0m\u001b[0;34m)\u001b[0m\u001b[0;34m\u001b[0m\u001b[0;34m\u001b[0m\u001b[0m\n\u001b[1;32m      9\u001b[0m \u001b[0max1\u001b[0m\u001b[0;34m.\u001b[0m\u001b[0mbar\u001b[0m\u001b[0;34m(\u001b[0m\u001b[0mlabels\u001b[0m\u001b[0;34m,\u001b[0m \u001b[0msum_true\u001b[0m\u001b[0;34m,\u001b[0m \u001b[0mwidth\u001b[0m\u001b[0;34m,\u001b[0m \u001b[0mbottom\u001b[0m\u001b[0;34m\u003d\u001b[0m\u001b[0mcount_pred\u001b[0m\u001b[0;34m,\u001b[0m \u001b[0mlabel\u001b[0m\u001b[0;34m\u003d\u001b[0m\u001b[0;34m\u0027sum_true\u0027\u001b[0m\u001b[0;34m)\u001b[0m\u001b[0;34m\u001b[0m\u001b[0;34m\u001b[0m\u001b[0m\n\u001b[0;32m---\u003e 10\u001b[0;31m \u001b[0max1\u001b[0m\u001b[0;34m.\u001b[0m\u001b[0mtext\u001b[0m\u001b[0;34m(\u001b[0m\u001b[0mv\u001b[0m \u001b[0;34m+\u001b[0m \u001b[0;36m3\u001b[0m\u001b[0;34m,\u001b[0m \u001b[0mi\u001b[0m \u001b[0;34m+\u001b[0m \u001b[0;36m.25\u001b[0m\u001b[0;34m,\u001b[0m \u001b[0mstr\u001b[0m\u001b[0;34m(\u001b[0m\u001b[0mv\u001b[0m\u001b[0;34m)\u001b[0m\u001b[0;34m,\u001b[0m \u001b[0mcolor\u001b[0m\u001b[0;34m\u003d\u001b[0m\u001b[0;34m\u0027blue\u0027\u001b[0m\u001b[0;34m,\u001b[0m \u001b[0mfontweight\u001b[0m\u001b[0;34m\u003d\u001b[0m\u001b[0;34m\u0027bold\u0027\u001b[0m\u001b[0;34m)\u001b[0m\u001b[0;34m\u001b[0m\u001b[0;34m\u001b[0m\u001b[0m\n\u001b[0m\u001b[1;32m     11\u001b[0m \u001b[0mcolor\u001b[0m \u001b[0;34m\u003d\u001b[0m \u001b[0;34m\u0027b\u0027\u001b[0m\u001b[0;34m\u001b[0m\u001b[0;34m\u001b[0m\u001b[0m\n\u001b[1;32m     12\u001b[0m \u001b[0max1\u001b[0m\u001b[0;34m.\u001b[0m\u001b[0mset_ylabel\u001b[0m\u001b[0;34m(\u001b[0m\u001b[0;34m\u0027Volume\u0027\u001b[0m\u001b[0;34m,\u001b[0m \u001b[0mcolor\u001b[0m\u001b[0;34m\u003d\u001b[0m\u001b[0mcolor\u001b[0m\u001b[0;34m)\u001b[0m\u001b[0;34m\u001b[0m\u001b[0;34m\u001b[0m\u001b[0m\n",
            "\u001b[0;31mNameError\u001b[0m: name \u0027v\u0027 is not defined"
          ]
        },
        {
          "output_type": "display_data",
          "data": {
            "text/plain": "\u003cFigure size 864x432 with 1 Axes\u003e",
            "image/png": "[encoded data removed]"
          },
          "metadata": {}
        }
      ]
    },
    {
      "execution_count": 0,
      "cell_type": "code",
      "metadata": {},
      "source": [
        "# Save plot to folder\nfolder_for_plot \u003d dataiku.Folder(\"ofSVU3Pe\")\nfolder_path \u003d folder_for_plot.get_path()\n\npath_fig \u003d os.path.join(folder_path, \"output.png\")\nplt.savefig(path_fig)"
      ],
      "outputs": []
    }
  ]
}