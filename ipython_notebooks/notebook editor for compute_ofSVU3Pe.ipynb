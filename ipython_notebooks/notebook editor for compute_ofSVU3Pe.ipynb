{
  "nbformat": 4,
  "nbformat_minor": 0,
  "metadata": {
    "kernelspec": {
      "display_name": "Python 3",
      "language": "python",
      "name": "python3"
    },
    "associatedRecipe": "compute_ofSVU3Pe",
    "creator": "admin",
    "createdOn": 1669043388937,
    "tags": [
      "recipe-editor"
    ],
    "customFields": {}
  },
  "cells": [
    {
      "cell_type": "code",
      "metadata": {},
      "outputs": [],
      "execution_count": 0,
      "source": [
        "# -*- coding: utf-8 -*-\n",
        "import dataiku\n",
        "import pandas as pd, numpy as np\n",
        "from dataiku import pandasutils as pdu\n",
        "\n",
        "# Read recipe inputs\n",
        "transactions_known_scored \u003d dataiku.Dataset(\"transactions_known_scored\")\n",
        "transactions_known_scored_df \u003d transactions_known_scored.get_dataframe()\n",
        "\n",
        "\n",
        "\n",
        "\n",
        "# Write recipe outputs\n",
        "data_viz \u003d dataiku.Folder(\"ofSVU3Pe\")\n",
        "data_viz_info \u003d data_viz.get_info()"
      ]
    }
  ]
}