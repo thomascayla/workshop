{
  "metadata": {
    "kernelspec": {
      "name": "python3",
      "display_name": "Python 3",
      "language": "python"
    },
    "associatedRecipe": "compute_ofSVU3Pe",
    "creator": "admin",
    "createdOn": 1669043388937,
    "tags": [
      "recipe-editor"
    ],
    "customFields": {},
    "hide_input": false,
    "language_info": {
      "name": "python",
      "version": "3.7.13",
      "mimetype": "text/x-python",
      "codemirror_mode": {
        "name": "ipython",
        "version": 3
      },
      "pygments_lexer": "ipython3",
      "nbconvert_exporter": "python",
      "file_extension": ".py"
    },
    "modifiedBy": "admin"
  },
  "nbformat": 4,
  "nbformat_minor": 1,
  "cells": [
    {
      "execution_count": 49,
      "cell_type": "code",
      "metadata": {},
      "source": [
        "# -*- coding: utf-8 -*-\nimport dataiku\nimport pandas as pd, numpy as np\nfrom dataiku import pandasutils as pdu\nimport matplotlib.pyplot as plt"
      ],
      "outputs": []
    },
    {
      "execution_count": 50,
      "cell_type": "code",
      "metadata": {},
      "source": [
        "list_var \u003d [\u0027authorized_flag\u0027,\u0027proba_1\u0027]"
      ],
      "outputs": []
    },
    {
      "execution_count": 51,
      "cell_type": "code",
      "metadata": {},
      "source": [
        "# Read recipe inputs\ntransactions_known_scored \u003d dataiku.Dataset(\"transactions_known_scored\").get_dataframe(limit\u003d1000)\ntransactions_known_scored.set_index(\u0027transaction_id\u0027, inplace\u003dTrue)"
      ],
      "outputs": []
    },
    {
      "execution_count": 52,
      "cell_type": "code",
      "metadata": {},
      "source": [
        "transactions_known_scored \u003d transactions_known_scored[list_var]\ntransactions_known_scored[\u0027decile\u0027] \u003d pd.cut(x\u003dtransactions_known_scored.proba_1, \n                                             bins\u003d10, precision\u003d1, right\u003dFalse)"
      ],
      "outputs": []
    },
    {
      "execution_count": 55,
      "cell_type": "code",
      "metadata": {},
      "source": [
        "col_names \u003d {\u0027authorized_flag\u0027:\u0027sum_true\u0027, \u0027proba_1\u0027:\u0027count_pred\u0027}\ndf_by_deciles \u003d transactions_known_scored.groupby(by\u003d\u0027decile\u0027).agg({\u0027authorized_flag\u0027:\u0027sum\u0027, \n                                                                    \u0027proba_1\u0027:\u0027count\u0027}).rename(columns\u003dcol_names)"
      ],
      "outputs": []
    },
    {
      "execution_count": 69,
      "cell_type": "code",
      "metadata": {},
      "source": [
        "df_by_deciles[\u0027validation_ratio\u0027] \u003d df_by_deciles.sum_true/df_by_deciles.count_pred\ndf_by_deciles.sort_index()"
      ],
      "outputs": [
        {
          "output_type": "execute_result",
          "execution_count": 69,
          "data": {
            "text/plain": "             sum_true  count_pred  validation_ratio\ndecile                                             \n[0.03, 0.1)         0           5          0.000000\n[0.1, 0.2)          1           2          0.500000\n[0.2, 0.3)         17          27          0.629630\n[0.3, 0.4)        106         141          0.751773\n[0.4, 0.5)        291         330          0.881818\n[0.5, 0.6)         65          70          0.928571\n[0.6, 0.7)         79          84          0.940476\n[0.7, 0.8)        104         105          0.990476\n[0.8, 0.9)        109         109          1.000000\n[0.9, 1.0)        127         127          1.000000",
            "text/html": "\n            \u003cbutton style\u003d\"display:none\" \n            class\u003d\"btn btn-default ipython-export-btn\" \n            id\u003d\"btn-df-2ba796e9-05de-45a2-af83-d21edd7f1e54\" \n            onclick\u003d\"_export_df(\u00272ba796e9-05de-45a2-af83-d21edd7f1e54\u0027)\"\u003e\n                Export dataframe\n            \u003c/button\u003e\n            \n            \u003cscript\u003e\n                \n                function _check_export_df_possible(dfid,yes_fn,no_fn) {\n                    console.log(\u0027Checking dataframe exportability...\u0027)\n                    if(!IPython || !IPython.notebook || !IPython.notebook.kernel || !IPython.notebook.kernel) {\n                        console.log(\u0027Export is not possible (IPython kernel is not available)\u0027)\n                        if(no_fn) {\n                            no_fn();\n                        }\n                    } else {\n                        var pythonCode \u003d \u0027from dataiku.notebook.export import IPythonExporter;IPythonExporter._check_export_stdout(\"\u0027+dfid+\u0027\")\u0027;\n                        IPython.notebook.kernel.execute(pythonCode,{iopub: {output: function(resp) {\n                            console.info(\"Exportability response\", resp);\n                            var size \u003d /^([0-9]+)x([0-9]+)$/.exec(resp.content.data || resp.content.text)\n                            if(!size) {\n                                console.log(\u0027Export is not possible (dataframe is not in-memory anymore)\u0027)\n                                if(no_fn) {\n                                    no_fn();\n                                }\n                            } else {\n                                console.log(\u0027Export is possible\u0027)\n                                if(yes_fn) {\n                                    yes_fn(1*size[1],1*size[2]);\n                                }\n                            }\n                        }}});\n                    }\n                }\n            \n                function _export_df(dfid) {\n                    \n                    var btn \u003d $(\u0027#btn-df-\u0027+dfid);\n                    var btns \u003d $(\u0027.ipython-export-btn\u0027);\n                    \n                    _check_export_df_possible(dfid,function() {\n                        \n                        window.parent.openExportModalFromIPython(\u0027Pandas dataframe\u0027,function(data) {\n                            btns.prop(\u0027disabled\u0027,true);\n                            btn.text(\u0027Exporting...\u0027);\n                            var command \u003d \u0027from dataiku.notebook.export import IPythonExporter;IPythonExporter._run_export(\"\u0027+dfid+\u0027\",\"\u0027+data.exportId+\u0027\")\u0027;\n                            var callback \u003d {iopub:{output: function(resp) {\n                                console.info(\"CB resp:\", resp);\n                                _check_export_df_possible(dfid,function(rows, cols) {\n                                    $(\u0027#btn-df-\u0027+dfid)\n                                        .css(\u0027display\u0027,\u0027inline-block\u0027)\n                                        .text(\u0027Export this dataframe (\u0027+rows+\u0027 rows, \u0027+cols+\u0027 cols)\u0027)\n                                        .prop(\u0027disabled\u0027,false);\n                                },function() {\n                                    $(\u0027#btn-df-\u0027+dfid).css(\u0027display\u0027,\u0027none\u0027);\n                                });\n                            }}};\n                            IPython.notebook.kernel.execute(command,callback,{silent:false}); // yes, silent now defaults to true. figures.\n                        });\n                    \n                    }, function(){\n                            alert(\u0027Unable to export : the Dataframe object is not loaded in memory\u0027);\n                            btn.css(\u0027display\u0027,\u0027none\u0027);\n                    });\n                    \n                }\n                \n                (function(dfid) {\n                \n                    var retryCount \u003d 10;\n                \n                    function is_valid_websock(s) {\n                        return s \u0026\u0026 s.readyState\u003d\u003d1;\n                    }\n                \n                    function check_conn() {\n                        \n                        if(!IPython || !IPython.notebook) {\n                            // Don\u0027t even try to go further\n                            return;\n                        }\n                        \n                        // Check if IPython is ready\n                        console.info(\"Checking conn ...\")\n                        if(IPython.notebook.kernel\n                        \u0026\u0026 IPython.notebook.kernel\n                        \u0026\u0026 is_valid_websock(IPython.notebook.kernel.ws)\n                        ) {\n                            \n                            _check_export_df_possible(dfid,function(rows, cols) {\n                                $(\u0027#btn-df-\u0027+dfid).css(\u0027display\u0027,\u0027inline-block\u0027);\n                                $(\u0027#btn-df-\u0027+dfid).text(\u0027Export this dataframe (\u0027+rows+\u0027 rows, \u0027+cols+\u0027 cols)\u0027);\n                            });\n                            \n                        } else {\n                            console.info(\"Conditions are not ok\", IPython.notebook.kernel);\n                            \n                            // Retry later\n                            \n                            if(retryCount\u003e0) {\n                                setTimeout(check_conn,500);\n                                retryCount--;\n                            }\n                            \n                        }\n                    };\n                    \n                    setTimeout(check_conn,100);\n                    \n                })(\"2ba796e9-05de-45a2-af83-d21edd7f1e54\");\n                \n            \u003c/script\u003e\n            \n        \u003cdiv\u003e\n\u003cstyle scoped\u003e\n    .dataframe tbody tr th:only-of-type {\n        vertical-align: middle;\n    }\n\n    .dataframe tbody tr th {\n        vertical-align: top;\n    }\n\n    .dataframe thead th {\n        text-align: right;\n    }\n\u003c/style\u003e\n\u003ctable border\u003d\"1\" class\u003d\"dataframe\"\u003e\n  \u003cthead\u003e\n    \u003ctr style\u003d\"text-align: right;\"\u003e\n      \u003cth\u003e\u003c/th\u003e\n      \u003cth\u003esum_true\u003c/th\u003e\n      \u003cth\u003ecount_pred\u003c/th\u003e\n      \u003cth\u003evalidation_ratio\u003c/th\u003e\n    \u003c/tr\u003e\n    \u003ctr\u003e\n      \u003cth\u003edecile\u003c/th\u003e\n      \u003cth\u003e\u003c/th\u003e\n      \u003cth\u003e\u003c/th\u003e\n      \u003cth\u003e\u003c/th\u003e\n    \u003c/tr\u003e\n  \u003c/thead\u003e\n  \u003ctbody\u003e\n    \u003ctr\u003e\n      \u003cth\u003e[0.03, 0.1)\u003c/th\u003e\n      \u003ctd\u003e0\u003c/td\u003e\n      \u003ctd\u003e5\u003c/td\u003e\n      \u003ctd\u003e0.000000\u003c/td\u003e\n    \u003c/tr\u003e\n    \u003ctr\u003e\n      \u003cth\u003e[0.1, 0.2)\u003c/th\u003e\n      \u003ctd\u003e1\u003c/td\u003e\n      \u003ctd\u003e2\u003c/td\u003e\n      \u003ctd\u003e0.500000\u003c/td\u003e\n    \u003c/tr\u003e\n    \u003ctr\u003e\n      \u003cth\u003e[0.2, 0.3)\u003c/th\u003e\n      \u003ctd\u003e17\u003c/td\u003e\n      \u003ctd\u003e27\u003c/td\u003e\n      \u003ctd\u003e0.629630\u003c/td\u003e\n    \u003c/tr\u003e\n    \u003ctr\u003e\n      \u003cth\u003e[0.3, 0.4)\u003c/th\u003e\n      \u003ctd\u003e106\u003c/td\u003e\n      \u003ctd\u003e141\u003c/td\u003e\n      \u003ctd\u003e0.751773\u003c/td\u003e\n    \u003c/tr\u003e\n    \u003ctr\u003e\n      \u003cth\u003e[0.4, 0.5)\u003c/th\u003e\n      \u003ctd\u003e291\u003c/td\u003e\n      \u003ctd\u003e330\u003c/td\u003e\n      \u003ctd\u003e0.881818\u003c/td\u003e\n    \u003c/tr\u003e\n    \u003ctr\u003e\n      \u003cth\u003e[0.5, 0.6)\u003c/th\u003e\n      \u003ctd\u003e65\u003c/td\u003e\n      \u003ctd\u003e70\u003c/td\u003e\n      \u003ctd\u003e0.928571\u003c/td\u003e\n    \u003c/tr\u003e\n    \u003ctr\u003e\n      \u003cth\u003e[0.6, 0.7)\u003c/th\u003e\n      \u003ctd\u003e79\u003c/td\u003e\n      \u003ctd\u003e84\u003c/td\u003e\n      \u003ctd\u003e0.940476\u003c/td\u003e\n    \u003c/tr\u003e\n    \u003ctr\u003e\n      \u003cth\u003e[0.7, 0.8)\u003c/th\u003e\n      \u003ctd\u003e104\u003c/td\u003e\n      \u003ctd\u003e105\u003c/td\u003e\n      \u003ctd\u003e0.990476\u003c/td\u003e\n    \u003c/tr\u003e\n    \u003ctr\u003e\n      \u003cth\u003e[0.8, 0.9)\u003c/th\u003e\n      \u003ctd\u003e109\u003c/td\u003e\n      \u003ctd\u003e109\u003c/td\u003e\n      \u003ctd\u003e1.000000\u003c/td\u003e\n    \u003c/tr\u003e\n    \u003ctr\u003e\n      \u003cth\u003e[0.9, 1.0)\u003c/th\u003e\n      \u003ctd\u003e127\u003c/td\u003e\n      \u003ctd\u003e127\u003c/td\u003e\n      \u003ctd\u003e1.000000\u003c/td\u003e\n    \u003c/tr\u003e\n  \u003c/tbody\u003e\n\u003c/table\u003e\n\u003c/div\u003e"
          },
          "metadata": {}
        }
      ]
    },
    {
      "execution_count": 74,
      "cell_type": "code",
      "metadata": {},
      "source": [
        "%matplotlib inline   \n\n#labels \u003d list(df_by_deciles.index.astype(str))\n#labels.sort()\nsum_true \u003d list(df_by_deciles.sum_true)\ncount_pred \u003d list(df_by_deciles.count_pred)\nwidth \u003d 0.5 # the width of the bars\n\nfig, ax \u003d plt.subplots(figsize\u003d(10, 5))\nax.bar(labels, sum_true, width, label\u003d\u0027sum_true\u0027)\nax.bar(labels, count_pred, width, bottom\u003dsum_true, label\u003d\u0027count_pred\u0027)\n\nax.set_ylabel(\u0027Volume\u0027)\n#ax.set_title(\u0027Scores by group and gender\u0027)\nax.legend()\nplt.show()"
      ],
      "outputs": [
        {
          "output_type": "display_data",
          "data": {
            "text/plain": "\u003cFigure size 720x360 with 1 Axes\u003e",
            "image/png": "iVBORw0KGgoAAAANSUhEUgAAAmcAAAEyCAYAAAC/GXfIAAAABHNCSVQICAgIfAhkiAAAAAlwSFlzAAALEgAACxIB0t1+/AAAADl0RVh0U29mdHdhcmUAbWF0cGxvdGxpYiB2ZXJzaW9uIDIuMi41LCBodHRwOi8vbWF0cGxvdGxpYi5vcmcvSM8oowAAIABJREFUeJzt3XuUXGWZqPHnJQmJkAxgEjlAgI5nQK4JOE1ARcnFgQAqBBDxAAZFc5zjiAiHiyMOOKPrgOeoBHThMF4GWDLgEJAoiCIEGRlAO9wDogEjBFRCgEDAcMt7/qjdoQh9qe6uXb3T/fzWqtV7f/ur71J77+q3vn2LzESSJEnVsNFgN0CSJEmvMTiTJEmqEIMzSZKkCjE4kyRJqhCDM0mSpAoxOJMkSaoQgzNJkqQKMTiTJEmqEIMzSZKkChk52A0YiAkTJmRbW9tgN0OSJKlXixcvfjIzJ/aWb4MOztra2ujo6BjsZkiSJPUqIv7QSD4Pa0qSJFWIwZkkSVKFGJxJkiRVyAZ9zpkkSWrMyy+/zPLly1mzZs1gN2XIGzNmDJMmTWLUqFH9er/BmSRJw8Dy5csZN24cbW1tRMRgN2fIykxWrlzJ8uXLmTx5cr/K8LCmJEnDwJo1axg/fryBWckigvHjxw9ohNLgTJKkYcLArDUG+jkbnEmSJFWI55xJkjQMtZ1+TVPLW3b2wU0tbyDOPfdc5s2bxyabbDLYTekXR84kSdKQcu655/LCCy90uezVV19tcWv6zuBMkiS1xPPPP8/BBx/M1KlT2W233bj88stpa2vjySefBKCjo4Pp06cDcNZZZzF37lze/e53s/3223PllVdy6qmnsvvuuzN79mxefvnlLus477zzePzxx5kxYwYzZswAYOzYsZx88slMnTqVW2+9tds6n3/+eT72sY8xbdo09txzT66++upyP5BueFhTUuudtVkL61rVurok9ei6665j66235ppraodUV61axWmnndZt/oceeohFixZx//338453vIMFCxbwla98hTlz5nDNNddw6KGHvuE9J5xwAl/72tdYtGgREyZMAGpB1957781Xv/rVHtv35S9/mZkzZ/Ld736XZ555hmnTpvHe976XTTfddAC97jtHziRJUkvsvvvuXH/99Zx22mn853/+J5tt1vMPtQMPPJBRo0ax++678+qrrzJ79ux15SxbtqzhekeMGMHhhx/ea76f/exnnH322eyxxx5Mnz6dNWvW8MgjjzRcT7M4ciZJklpixx135I477uDaa6/ljDPOYNasWYwcOZK1a9cCvOHeYKNHjwZgo402YtSoUetuUbHRRhvxyiuvNFzvmDFjGDFixLr57urMTBYsWMDb3va2/nWwSRw5kyRJLfH444+zySabcMwxx3DKKadwxx130NbWxuLFiwFYsGBBU+oZN24czz33XLfLu6vzgAMO4PzzzyczAbjzzjub0p6+cuRMkqRhaDBufXHvvfdyyimnrBsJu+CCC/jLX/7C8ccfzxe+8IV1J+YP1Lx585g9ezZbb701ixYtesPyM888s8s6v/CFL3DiiScyZcoU1q5dy+TJk/nxj3/clDb1RXRGh6UUHrE58G1gNyCBjwEPApcDbcAy4MjMfDpqY5XzgYOAF4DjMvOOnspvb2/Pjo6O0tovqSReECC13AMPPMDOO+882M0YNrr6vCNicWa29/besg9rzgeuy8ydgKnAA8DpwA2ZuQNwQzEPcCCwQ/GaB1xQctskSZIqp7TDmhGxGfAe4DiAzHwJeCkiDgGmF9kuAm4CTgMOAS7O2lDebRGxeURslZl/LKuNkiRpwzVnzhx+//vfvy7tnHPO4YADDhikFjVHmeecTQZWAN+LiKnAYuAzwJZ1AdefgC2L6W2AR+vev7xIMziTJElvcNVVVw12E0pR5mHNkcDbgQsyc0/geV47hAlAMUrWp5PeImJeRHRERMeKFSua1lhJkqQqKDM4Ww4sz8zbi/krqAVrf46IrQCKv08Uyx8Dtq17/6Qi7XUy88LMbM/M9okTJ5bWeEmSpMFQWnCWmX8CHo2Izju5zQLuBxYCc4u0uUDng6sWAh+Jmn2AVZ5vJkmShpuy73P2aeD7EbEx8DDwUWoB4Q8i4njgD8CRRd5rqd1GYym1W2l8tOS2SZIkVU6pwVlm3gV0dT+PWV3kTeBTZbZHkiQVmn2/Qe8p2DQ+vkmSJA0J5557Li+88EJL62xra+PJJ59sapkGZ5IkaUhoVnDWl4eql8HgTJIktczFF1/MlClTmDp1KsceeyzLli1j5syZTJkyhVmzZvHII48AcNxxx3HFFVese9/YsWMBuOmmm5g+fTpHHHEEO+20E0cffTSZyXnnncfjjz/OjBkzmDFjRrf1jx07ls9+9rPsuuuuzJo1i87bck2fPp0TTzyR9vZ25s+fz4oVKzj88MPZa6+92GuvvbjlllsAWLlyJfvvvz+77rorH//4xynjMZgGZ5IkqSWWLFnCl770JW688Ubuvvtu5s+fz6c//Wnmzp3LPffcw9FHH80JJ5zQazl33nkn5557Lvfffz8PP/wwt9xyCyeccMK6B5139bDzTs8//zzt7e0sWbKE/fbbjy9+8Yvrlr300kt0dHRw8skn85nPfIbPfvaz/PrXv2bBggV8/OMfB+CLX/wi++67L0uWLGHOnDnrgslmKvtqTUmSJABuvPFGPvjBDzJhwgQA3vzmN3Prrbdy5ZVXAnDsscdy6qmn9lrOtGnTmDRpEgB77LEHy5YtY999922oDRtttBEf+tCHADjmmGM47LDD1i3rTAf4+c9/zv33379u/tlnn2X16tXcfPPN69p78MEHs8UWWzRUb18YnEmSpMoZOXIka9euBWDt2rW89NJL65aNHj163fSIESMGdI5YRKyb3nTTTddNr127lttuu40xY8b0u+z+MjiTJGk4GoRbX8ycOZM5c+Zw0kknMX78eJ566ine+c53ctlll3Hsscfy/e9/n3e/+91A7SrIxYsXc+SRR7Jw4UJefvnlXssfN24czz333LqRua6sXbuWK664gqOOOopLL7202xG3/fffn/PPP59TTjkFgLvuuos99tiD97znPVx66aWcccYZ/OQnP+Hpp5/uxyfRM885kyRJLbHrrrvy+c9/nv3224+pU6dy0kkncf755/O9732PKVOmcMkllzB//nwAPvGJT/CLX/yCqVOncuutt75uVKs78+bNY/bs2T1eELDpppvyq1/9it12240bb7yRf/zHf+wy33nnnUdHRwdTpkxhl1124Vvf+hYAZ555JjfffDO77rorV155Jdttt10/PomeRRlXGbRKe3t7dnR0DHYzJPVVs29+2WNd3hhTAnjggQfYeeedB7sZg27s2LGsXr269Hq6+rwjYnFmdnVz/tdx5EySJKlCPOdMkiQNOXvvvTcvvvji69IuueSSloyaDZTBmSRJw0Rmvu7qxKHs9ttvH7S6B3rKmIc1JUkaBsaMGcPKlStLuaO9XpOZrFy5ckC34HDkTJKkYWDSpEksX7583eOKVJ4xY8asu0lufxicSZI0DIwaNYrJkycPdjPUAA9rSpIkVYjBmSRJUoUYnEmSJFWIwZkkSVKFGJxJkiRViMGZJElShRicSZIkVYjBmSRJUoUYnEmSJFWIwZkkSVKFGJxJkiRViMGZJElShRicSZIkVYjBmSRJUoUYnEmSJFWIwZkkSVKFGJxJkiRViMGZJElShZQanEXEsoi4NyLuioiOIu3NEXF9RPyu+LtFkR4RcV5ELI2IeyLi7WW2TZIkqYpaMXI2IzP3yMz2Yv504IbM3AG4oZgHOBDYoXjNAy5oQdskSZIqZTAOax4CXFRMXwQcWpd+cdbcBmweEVsNQvskSZIGTdnBWQI/i4jFETGvSNsyM/9YTP8J2LKY3gZ4tO69y4u014mIeRHREREdK1asKKvdkiRJg2JkyeXvm5mPRcRbgOsj4jf1CzMzIyL7UmBmXghcCNDe3t6n90qSJFVdqSNnmflY8fcJ4CpgGvDnzsOVxd8niuyPAdvWvX1SkSZJkjRslBacRcSmETGucxrYH7gPWAjMLbLNBa4uphcCHymu2twHWFV3+FOSJGlYKPOw5pbAVRHRWc+lmXldRPwa+EFEHA/8ATiyyH8tcBCwFHgB+GiJbZMkSaqk0oKzzHwYmNpF+kpgVhfpCXyqrPZIkiRtCHxCgCRJUoUYnEmSJFWIwZkkSVKFGJxJkiRViMGZJElShRicSZIkVYjBmSRJUoUYnEmSJFWIwZkkSVKFGJxJkiRViMGZJElShRicSZIkVYjBmSRJUoUYnEmSJFWIwZkkSVKFGJxJkiRViMGZJElShRicSZIkVYjBmSRJUoUYnEmSJFWIwZkkSVKFGJxJkiRViMGZJElShRicSZIkVYjBmSRJUoUYnEmSJFWIwZkkSVKFGJxJkiRViMGZJElShRicSZIkVYjBmSRJUoUYnEmSJFWIwZkkSVKFlB6cRcSIiLgzIn5czE+OiNsjYmlEXB4RGxfpo4v5pcXytrLbJkmSVDWtGDn7DPBA3fw5wNcz86+Bp4Hji/TjgaeL9K8X+SRJkoaVUoOziJgEHAx8u5gPYCZwRZHlIuDQYvqQYp5i+awivyRJ0rBR9sjZucCpwNpifjzwTGa+UswvB7YpprcBHgUolq8q8r9ORMyLiI6I6FixYkWZbZckSWq50oKziHgf8ERmLm5muZl5YWa2Z2b7xIkTm1m0JEnSoBtZYtnvAj4QEQcBY4C/AuYDm0fEyGJ0bBLwWJH/MWBbYHlEjAQ2A1aW2D5JkqTKKW3kLDM/l5mTMrMNOAq4MTOPBhYBRxTZ5gJXF9MLi3mK5TdmZpbVPkmSpCoajPucnQacFBFLqZ1T9p0i/TvA+CL9JOD0QWibJEnSoCrzsOY6mXkTcFMx/TAwrYs8a4APtqI9kiRJVeUTAiRJkirE4EySJKlCDM4kSZIqxOBMkiSpQgzOJEmSKsTgTJIkqUIMziRJkirE4EySJKlCDM4kSZIqpKHgLCK2j4j3FtNviohx5TZLkiRpeOo1OIuITwBXAP9SJE0CflhmoyRJkoarRkbOPgW8C3gWIDN/B7ylzEZJkiQNV40EZy9m5kudMxExEsjymiRJkjR8NRKc/SIi/gF4U0T8LfAfwI/KbZYkSdLw1EhwdjqwArgX+J/AtcAZZTZKkiRpuBrZW4bMXAv8a/GSJElSiRq5WvN9EXFnRDwVEc9GxHMR8WwrGidJkjTc9DpyBpwLHAbcm5leCCBJklSiRs45exS4z8BMkiSpfI2MnJ0KXBsRvwBe7EzMzK+V1ipJkqRhqpHg7MvAamAMsHG5zZEkSRreGgnOts7M3UpviSRJkho65+zaiNi/9JZIkiSpoeDs74DrIuIv3kpDkiSpXI3chHZcKxoiSZKkBoKziHhPV+mZeXPzmyNJkjS8NXJBwCl102OAacBiYGYpLZIkSRrGGjms+f76+YjYltpTAyRJktRkjVwQsL7lwM7NbogkSZIaO+fsfKDz0U0bAXsAd5TZKEmSpOGqkXPOOuqmXwH+PTNvKak9kiRJw1oj55xd1IqGSJIkqYfgLCLu5bXDma9bBGRmTump4IgYA9wMjC7quSIzz4yIycBlwHhqV30em5kvRcRo4GLgb4CVwIcyc1nfuyRJkrTh6mnk7H0DLPtFYGZmro6IUcAvI+InwEnA1zPzsoj4FnA8cEHx9+nM/OuIOAo4B/jQANsgSZK0Qen2as3M/EPnC1gD7F68/lKk9ShrVhezo4pXUrs/2hVF+kXAocX0IcU8xfJZERF97I8kSdIGrddbaUTEkcCvgA8CRwK3R8QRjRQeESMi4i7gCeB64CHgmcx8pciyHNimmN4GeBSgWL6K2qFPSZKkYaORqzU/D+yVmU8ARMRE4Oe8NvrVrcx8FdgjIjYHrgJ2GkBbKeqfB8wD2G677QZanCRJUqU0chPajToDs8LKBt+3TmY+AywC3gFsHhGdQeEk4LFi+jFgW4Bi+WZFXeuXdWFmtmdm+8SJE/vSDEmSpMprJMi6LiJ+GhHHRcRxwDXAtb29KSImFiNmRMSbgL8FHqAWpHUeFp0LXF1MLyzmKZbfmJldXS0qSZI0ZPV0K41vApdm5ikRcRiwb7Howsy8qoGytwIuiogR1ILAH2TmjyPifuCyiPgScCfwnSL/d4BLImIp8BRwVP+6JKnq2tZc2rK6lrWsJklqjp7OOfst8P8iYivgB8AlmXlnowVn5j3Anl2kPwxM6yJ9DbWLDiRJkoatnm6lMT8z3wHsR+3cr+9GxG8i4syI2LFlLZQkSRpGej3nrLjX2TmZuSfwYWr3JXug9JZJkiQNQ43c52xkRLw/Ir4P/AR4EDis9JZJkiQNQz1dEPC31EbKDqJ2E9rLgHmZ+XyL2iZJkjTs9HRBwOeAS4GTM/PpFrVHkiRpWOs2OMvMma1siCRJkvp4p39JkiSVy+BMkiSpQgzOJEmSKsTgTJIkqUIMziRJkirE4EySJKlCDM4kSZIqxOBMkiSpQnp6QoAkSdLgOWuzFta1qnV19cKRM0mSpAoxOJMkSaoQD2tKVdeqYf0KDelL0nDmyJkkSVKFGJxJkiRViMGZJElShRicSZIkVYjBmSRJUoUYnEmSJFWIwZkkSVKFGJxJkiRViMGZJElShRicSZIkVYjBmSRJUoX4bE1JkoYCn8M7ZDhyJkmSVCEGZ5IkSRVicCZJklQhpZ1zFhHbAhcDWwIJXJiZ8yPizcDlQBuwDDgyM5+OiADmAwcBLwDHZeYdZbVPkjRMtercLPD8LPVLmSNnrwAnZ+YuwD7ApyJiF+B04IbM3AG4oZgHOBDYoXjNAy4osW2SJEmVVFpwlpl/7Bz5yszngAeAbYBDgIuKbBcBhxbThwAXZ81twOYRsVVZ7ZMkSaqilpxzFhFtwJ7A7cCWmfnHYtGfqB32hFrg9mjd25YXaeuXNS8iOiKiY8WKFaW1WZIkaTCUHpxFxFhgAXBiZj5bvywzk9r5aA3LzAszsz0z2ydOnNjElkqSJA2+UoOziBhFLTD7fmZeWST/ufNwZfH3iSL9MWDburdPKtIkSZKGjdKCs+Lqy+8AD2Tm1+oWLQTmFtNzgavr0j8SNfsAq+oOf0qSJA0LZT6+6V3AscC9EXFXkfYPwNnADyLieOAPwJHFsmup3UZjKbVbaXy0xLZJkiRVUmnBWWb+EohuFs/qIn8CnyqrPZIkSRsCnxAgSZJUIQZnkiRJFWJwJkmSVCEGZ5IkSRVicCZJklQhBmeSJEkVYnAmSZJUIQZnkiRJFWJwJkmSVCEGZ5IkSRVS5rM1JUkburM2a2Fdq1pXl1RhjpxJkiRViMGZJElShRicSZIkVYjBmSRJUoUYnEmSJFWIwZkkSVKFGJxJkiRViMGZJElShRicSZIkVYjBmSRJUoUYnEmSJFWIz9aUpGbwGZSSmsSRM0mSpAoxOJMkSaoQD2tKkqRKaltzacvqWtaymnrnyJkkSVKFGJxJkiRViMGZJElShRicSZIkVYjBmSRJUoUYnEmSJFWIt9KQJGkIaNVtJ5a1pJbhrbSRs4j4bkQ8ERH31aW9OSKuj4jfFX+3KNIjIs6LiKURcU9EvL2sdkmSJFVZmSNn/wZ8A7i4Lu104IbMPDsiTi/mTwMOBHYoXnsDFxR/pWHPX8NScw3XG5tqw1HayFlm3gw8tV7yIcBFxfRFwKF16RdnzW3A5hGxVVltkyRJqqpWXxCwZWb+sZj+E7BlMb0N8GhdvuVF2htExLyI6IiIjhUrVpTXUkmSpEEwaFdrZmYC2Y/3XZiZ7ZnZPnHixBJaJkmSNHhaHZz9ufNwZfH3iSL9MWDbunyTijRJkqRhpdXB2UJgbjE9F7i6Lv0jxVWb+wCr6g5/SpIkDRulXa0ZEf8OTAcmRMRy4EzgbOAHEXE88AfgyCL7tcBBwFLgBeCjZbVLkiSpykoLzjLzw90smtVF3gQ+VVZbJEmSNhQ+vkmSJKlCDM4kSZIqxOBMkiSpQnzwuSSpWz7qSGo9R84kSZIqxOBMkiSpQgzOJEmSKsTgTJIkqUIMziRJkirEqzUlqQm8qlFSszhyJkmSVCEGZ5IkSRVicCZJklQhBmeSJEkVYnAmSZJUIQZnkiRJFWJwJkmSVCHe50xDx1mbtbCuVa2rS5I0rDhyJkmSVCEGZ5IkSRVicCZJklQhBmeSJEkVYnAmSZJUIQZnkiRJFWJwJkmSVCEGZ5IkSRVicCZJklQhBmeSJEkVYnAmSZJUIT5bU0NG25pLW1bXspbVJEkabhw5kyRJqhCDM0mSpAqpVHAWEbMj4sGIWBoRpw92eyRJklqtMsFZRIwAvgkcCOwCfDgidhncVkmSJLVWlS4ImAYszcyHASLiMuAQ4P5BbdVZm7WwrlWtq0uSJFVSlYKzbYBH6+aXA3sPUluGvLbTr2lZXcvOPrhldUmStKGLzBzsNgAQEUcAszPz48X8scDemfn36+WbB8wrZt8GPNjShjZuAvDkYDeiyYZin2Bo9ss+bTiGYr+GYp9gaPbLPrXW9pk5sbdMVRo5ewzYtm5+UpH2Opl5IXBhqxrVXxHRkZntg92OZhqKfYKh2S/7tOEYiv0ain2Codkv+1RNlbkgAPg1sENETI6IjYGjgIWD3CZJkqSWqszIWWa+EhF/D/wUGAF8NzOXDHKzJEmSWqoywRlAZl4LXDvY7WiSyh967Yeh2CcYmv2yTxuOodivodgnGJr9sk8VVJkLAiRJklStc84kSZKGPYMzSZKkChl2wVlEtEXEXyLirrq0Xp/pGRGjI+LyIs/tEdFWpE+LiLuK190RMaeBNkwuylhalLlxF3nGR8SiiFgdEd9Yb9nPI2KLJvfvPRFxR0S8UtxzrlcR8TcRcW9R7nkREV3kOToi7iny/VdETC3SN46ImyOiofMeB9CvkyLi/qINN0TE9k3q1yFFmXdFREdE7FukT4yI60ru0yeL9t0VEb9s5DFnfXlubUQcHhEZEe3F/O4R8W+N9Gkg/equ/l7yNvJ5HRcRK+r20857KbZiXXVZdy919br9FfmmF2UuiYhfFGkN71cDWU8RcWSxXy2JiEub0aeIOKXuc7ovIl6NiDe38Lvi63X1/zYinmlSvzaLiB9F7f/Dkoj4aJHeiu1vu6j9H7kzat9XBzVQVyPlbh+179N7IuKmiJjUwj51WXcvdX05Ih6NiNW95PtcUfeDEXFAkdan7a9pMnNYvYA24L66+RHAQ8BbgY2Bu4Fdunjf/wK+VUwfBVxeTG8CjCymtwKe6JzvoQ0/AI4qpr8F/F0XeTYF9gU+CXxjvWVzgc83uX9twBTgYuCIBj/LXwH7AAH8BDiwizzvBLYopg8Ebq9bdiZwdMnrbQawSTH9d53rrQn9Gstr52xOAX5Tt+x7wLtK7NNf1U1/ALiul3oaKrfIOw64GbgNaK9L/zmwXZnrqqf6B9Iv4Lj196EWrqtu6x7g9rc5tUfbbVfMv6Wv+9UA+rQDcCev7ddvaUaf1sv/fuDGvvZpoNtf3Xs+Te2OAc1YV/8AnFNMTwSeAjZu0fZ3IcX/F2rPrF7WpH3qP4C5xfRM4JIW7lPd1t1DXftQ+/+8uoc8uxR1jgYmF20Z0dftr1mvYTdy1oV1z/TMzJeAzmd6ru8Q4KJi+gpgVkREZr6Qma8U6WOAHq+wKH5ZzSzKoCjz0PXzZebzmflLYE0XxSwEPtxzt9ZpqH+ZuSwz7wHWNlJoRGxFLUi4LWtb78Xd9OO/MvPpYvY2ajcX7vRD4OgG+7G+Rvu1KDNf6Kb+N+hDv1YXy6EWSNev9/72q9E+PVs3u37d/S638M/AObxxu/sRtR8l/dGM+gdabndKXVd91ej2B/wP4MrMfAQgM5+oW1Z2nz4BfLNzv16v7jfoQ5/qfRj497r50r8reqn/DfrQrwTGFd/9Y6kFZ53/M8peVwn8VTG9GfB4k8rdBbixmF60Xp6y+9RT3V0q1tEfe8l2CHBZZr6Ymb8HlhZtgoFtf/1icNb1Mz236SlfEYytAsYDRMTeEbEEuBf4ZF2w1pXxwDN1ebqrr1vFl+LoiBjfQPZG+9dX2xRl9aXc46n9uux0H7DXAOrva7/Wr7+7chvqV0TMiYjfANcAH6tb1AG8u5d6uqu7oT5FxKci4iHgK8AJzSg3It4ObJuZXT14tb99alb9/S63cHhxGOSKiKh/Eknp66qHursrt5Htb0dgi+KwzuKI+Ejdsv7uV432aUdgx4i4JSJui4jZDZTb8HdFRGwCzAYW1CW37Lsiaqc+TOa1AKCnchvp1zeAnakFRvcCn8nMzh/BZW9/ZwHHRMRyarep+nSTyr0bOKyYnkMt+Oz8f1R2n3qqeyB6qn8g21+/GJw1QWbenpm7Ult5n4uIMS2o9glg6xbU0xQRMYNacHRaZ1pmvgq8FBHjWlD/MUA78H+bVWZmXpWZO1H7tfzPdYtKXzeZ+c3M/O/UPs8zBlpeRGwEfA04uZsspfapgfoH4kdAW2ZOAa7ntRFwKH9d9VT3QIwE/gY4GDgA+EJE7Agt2a9GUju0OZ3aCNO/RsTmTSz//cAtmflUZ0IrvyuojRBfUdTZDAcAd1HbzvYAvhERnaNZZW9/Hwb+LTMnAQcBlxT72kD9b2C/iLgT2I/aoxY7P6+y+9RT3aVo8fYHGJxBg8/0rM9XnBi4GbCyPkNmPgCsBnbrob6VwOZ1Jxd2V19vxgB/aSBfo/3rq8d4/SHCbsuNiCnAt4FDMnPleotH09ghrK7qb6hfEfFe4PPABzLzxQbKbahfnTLzZuCtETGhSGp03XRVd1/X1WX0foiokXLHUdtub4qIZdTO0VgYr52U398+Nav+/pZLZq6sW+/fphbUdCp1XfVSd3flNrL9LQd+Wpz+8CS18/Sm1i3vz37V6Pa3HFiYmS8Xh39+Sy1Y66ncvuxTR9H1IcXSvyt6qb+rchvp10epHYLOzFwK/B7YqVhW9nfF8dTOcSYzby3qm9BFvj6Vm5mPZ+Zhmbknte9WMrPzAoqy96me6h6I3urv7/bXLwZnjT/TcyG1E/EBjqB2smoW7xsJ64bDdwKWFfMX2P/aAAADU0lEQVQ3RMTrhmWLcxMWFWVQlHl1XxpcnLvw3zrr6cWAn1laHLp7neL4/bMRsU/Rno/QRT8iYjvgSuDYzPztesvGA09m5st9aU+hoX5FxJ7Av1ALzJ5Yb9lA+vXXxfLOw3GjeS1Y35HaMHhZfar/R3gw8LsifZuIuKE/5WbmqsyckJltmdlG7fy8D2RmxwD7NOD6B9IvWHduUKcPAA/UzZe9rrqteyDbX5G2b0SMLA4D7t1Z9gD2q0a/K35IbdSM4gfJjsDDTegTEbEZtdGQq9dLL/27oqhnJ2AL4Nb10gfSr0eAWUU5WwJvo/i8KHn7W6/unakFTiuasE9NqBuB+xzw3brFZe9T3dbd1Xrqg4XAUVG7M8Nkaj84flWUO5Dtr3+yhVcfVOHFeleIFGkHUfv19xB1V0EC/0TtHwTUNur/oHaS4K+AtxbpxwJLqA1b3wEcWqRvBPwBeFMXbXhrUcbSoszRRfoHgH+qy7eM2smjq6n9Wt2lSG8HFjS5f3sVdTxPLchYUqRPAB7spq52ajvhQ9TOq+i8evGT1M69g9powdPF53MX0FH3/iOAr5a83n4O/Lmu/oVN6tdpdev9VmDfuvf/b+DTJfZpfl3di4Bd69r9027q6rXc9fLfxOuv1vwG8P4y11V39Q+0X8D/KT6vu4vPa6cWrqsu6x7o9lfMn0Ltis37gBP7ul8NoE9B7RD0/dTOoTqqiX06jtpJ2eu/v/TvimL+LODs9d470O+KrYGfFZ/VfcAxLdz+dgFuKba/u4D9m7RPHUHtR+FvqX3Hj25hn7qsu5f19BVq/9/WFn/PKtLX/5/7+aLuB6m78rYv21+zXi2rqCqvrjaIkurZDfhaSWXPB2a1on/A+4ATSurHlcCOg7HeSu7XzRS3GWhxn/6eLgKdJpQ7mtpIVo+3iNnQ+jXI62rQ96uh2KcNsF9D6rtikPtUie2vWa9h92zNqF0t9V/AyszcY7Db0x8R8YnM/Ndulm0Q/escts7MixvMv6H0ayK1e/z8sIG8G0qfdgC2ycybGsy/ofRrKK6rhverodinIv+G0q+huP0NxT71aftrWr3DLTiTJEmqMi8IkCRJqhCDM0mSpAoxOJMkSaoQgzNJkqQKMTiTJEmqkP8PVfSCcwpE288AAAAASUVORK5CYII\u003d\n"
          },
          "metadata": {}
        }
      ]
    },
    {
      "execution_count": 0,
      "cell_type": "code",
      "metadata": {},
      "source": [
        "# Write recipe outputs\ndata_viz \u003d dataiku.Folder(\"ofSVU3Pe\")\ndata_viz_info \u003d data_viz.get_info()"
      ],
      "outputs": []
    },
    {
      "execution_count": 0,
      "cell_type": "code",
      "metadata": {},
      "source": [
        ""
      ],
      "outputs": []
    }
  ]
}