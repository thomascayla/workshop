{
  "nbformat": 4,
  "nbformat_minor": 0,
  "metadata": {
    "kernelspec": {
      "display_name": "Python 3",
      "language": "python",
      "name": "python3"
    },
    "associatedRecipe": "compute_ofSVU3Pe",
    "dkuGit": {
      "lastInteraction": 0
    },
    "creationTag": {
      "versionNumber": 0,
      "lastModifiedBy": {
        "login": "admin"
      },
      "lastModifiedOn": 1669043388937
    },
    "creator": "admin",
    "createdOn": 1669043388937,
    "tags": [
      "recipe-editor"
    ],
    "customFields": {}
  },
  "cells": [
    {
      "cell_type": "code",
      "metadata": {},
      "outputs": [],
      "execution_count": 0,
      "source": [
        "# -*- coding: utf-8 -*-\n",
        "#%matplotlib inline\n",
        "import dataiku\n",
        "import pandas as pd, numpy as np\n",
        "from dataiku import pandasutils as pdu\n",
        "import matplotlib.pyplot as plt\n",
        "import os"
      ]
    },
    {
      "cell_type": "code",
      "metadata": {},
      "outputs": [],
      "execution_count": 0,
      "source": [
        "# Read recipe inputs\n",
        "transactions_known_scored \u003d dataiku.Dataset(\"transactions_known_scored\").get_dataframe(limit\u003d1000)"
      ]
    },
    {
      "cell_type": "code",
      "metadata": {},
      "outputs": [],
      "execution_count": 0,
      "source": [
        "list_var \u003d [\u0027authorized_flag\u0027,\u0027proba_1\u0027]\n",
        "transactions_known_scored \u003d transactions_known_scored[list_var]\n",
        "transactions_known_scored[\u0027decile\u0027] \u003d pd.cut(x\u003dtransactions_known_scored.proba_1,\n",
        "                                             bins\u003d10, precision\u003d1, right\u003dFalse)\n",
        "transactions_known_scored.decile \u003d transactions_known_scored.decile.astype(str)"
      ]
    },
    {
      "cell_type": "code",
      "metadata": {},
      "outputs": [],
      "execution_count": 0,
      "source": [
        "col_names \u003d {\u0027authorized_flag\u0027:\u0027sum_true\u0027, \u0027proba_1\u0027:\u0027count_pred\u0027}\n",
        "df_by_deciles \u003d transactions_known_scored.groupby(by\u003d\u0027decile\u0027).agg({\u0027authorized_flag\u0027:\u0027sum\u0027,\n",
        "                                                                    \u0027proba_1\u0027:\u0027count\u0027}).rename(columns\u003dcol_names)"
      ]
    },
    {
      "cell_type": "code",
      "metadata": {},
      "outputs": [],
      "execution_count": 0,
      "source": [
        "df_by_deciles[\u0027validation_ratio\u0027] \u003d df_by_deciles.sum_true/df_by_deciles.count_pred\n",
        "df_by_deciles.sort_index(ascending\u003dTrue, inplace\u003dTrue)"
      ]
    },
    {
      "cell_type": "code",
      "metadata": {},
      "outputs": [],
      "execution_count": 0,
      "source": [
        "df_by_deciles.head()"
      ]
    },
    {
      "cell_type": "code",
      "metadata": {},
      "outputs": [],
      "execution_count": 0,
      "source": [
        "labels \u003d list(df_by_deciles.index)\n",
        "sum_true \u003d list(df_by_deciles.sum_true)\n",
        "count_pred \u003d list(df_by_deciles.count_pred)\n",
        "validation_ratio \u003d list(df_by_deciles.validation_ratio)\n",
        "width \u003d 0.5 # the width of the bars\n",
        "\n",
        "fig, ax1 \u003d plt.subplots(figsize\u003d(10, 5))\n",
        "ax1.bar(labels, count_pred, width, label\u003d\u0027sum_true\u0027)\n",
        "ax1.bar(labels, sum_true, width, bottom\u003dcount_pred, label\u003d\u0027count_pred\u0027)\n",
        "\n",
        "ax1.set_ylabel(\u0027Volume\u0027)\n",
        "ax1.legend()\n",
        "\n",
        "\n",
        "ax2 \u003d ax1.twinx()\n",
        "ax2.plot(labels, validation_ratio)\n",
        "ax2.set_ylabel(\u0027Percentage\u0027)\n",
        "\n",
        "#plt.title(\u0027\u0027)\n",
        "#plt.show()"
      ]
    },
    {
      "cell_type": "code",
      "metadata": {},
      "outputs": [],
      "execution_count": 0,
      "source": [
        "# Save plot to folder\n",
        "folder_for_plot \u003d dataiku.Folder(\"ofSVU3Pe\")\n",
        "folder_path \u003d folder_for_plot.get_path()\n",
        "\n",
        "path_fig \u003d os.path.join(folder_path, \"output.png\")\n",
        "plt.savefig(path_fig)"
      ]
    }
  ]
}