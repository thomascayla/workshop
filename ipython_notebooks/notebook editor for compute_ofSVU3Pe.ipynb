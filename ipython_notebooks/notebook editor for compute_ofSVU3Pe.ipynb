{
  "metadata": {
    "kernelspec": {
      "name": "python3",
      "display_name": "Python 3",
      "language": "python"
    },
    "associatedRecipe": "compute_ofSVU3Pe",
    "creator": "admin",
    "createdOn": 1669043388937,
    "tags": [
      "recipe-editor"
    ],
    "customFields": {},
    "hide_input": false,
    "language_info": {
      "name": "python",
      "version": "3.7.13",
      "mimetype": "text/x-python",
      "codemirror_mode": {
        "name": "ipython",
        "version": 3
      },
      "pygments_lexer": "ipython3",
      "nbconvert_exporter": "python",
      "file_extension": ".py"
    },
    "modifiedBy": "admin"
  },
  "nbformat": 4,
  "nbformat_minor": 1,
  "cells": [
    {
      "execution_count": 49,
      "cell_type": "code",
      "metadata": {},
      "source": [
        "# -*- coding: utf-8 -*-\nimport dataiku\nimport pandas as pd, numpy as np\nfrom dataiku import pandasutils as pdu\nimport matplotlib.pyplot as plt"
      ],
      "outputs": []
    },
    {
      "execution_count": 50,
      "cell_type": "code",
      "metadata": {},
      "source": [
        "list_var \u003d [\u0027authorized_flag\u0027,\u0027proba_1\u0027]"
      ],
      "outputs": []
    },
    {
      "execution_count": 51,
      "cell_type": "code",
      "metadata": {},
      "source": [
        "# Read recipe inputs\ntransactions_known_scored \u003d dataiku.Dataset(\"transactions_known_scored\").get_dataframe(limit\u003d1000)\ntransactions_known_scored.set_index(\u0027transaction_id\u0027, inplace\u003dTrue)"
      ],
      "outputs": []
    },
    {
      "execution_count": 52,
      "cell_type": "code",
      "metadata": {},
      "source": [
        "transactions_known_scored \u003d transactions_known_scored[list_var]\ntransactions_known_scored[\u0027decile\u0027] \u003d pd.cut(x\u003dtransactions_known_scored.proba_1, \n                                             bins\u003d10, precision\u003d1, right\u003dFalse)"
      ],
      "outputs": []
    },
    {
      "execution_count": 55,
      "cell_type": "code",
      "metadata": {},
      "source": [
        "col_names \u003d {\u0027authorized_flag\u0027:\u0027sum_true\u0027, \u0027proba_1\u0027:\u0027count_pred\u0027}\ndf_by_deciles \u003d transactions_known_scored.groupby(by\u003d\u0027decile\u0027).agg({\u0027authorized_flag\u0027:\u0027sum\u0027, \n                                                                    \u0027proba_1\u0027:\u0027count\u0027}).rename(columns\u003dcol_names)"
      ],
      "outputs": []
    },
    {
      "execution_count": 69,
      "cell_type": "code",
      "metadata": {},
      "source": [
        "df_by_deciles[\u0027validation_ratio\u0027] \u003d df_by_deciles.sum_true/df_by_deciles.count_pred\ndf_by_deciles.sort_index()"
      ],
      "outputs": [
        {
          "output_type": "execute_result",
          "execution_count": 69,
          "data": {
            "text/plain": "             sum_true  count_pred  validation_ratio\ndecile                                             \n[0.03, 0.1)         0           5          0.000000\n[0.1, 0.2)          1           2          0.500000\n[0.2, 0.3)         17          27          0.629630\n[0.3, 0.4)        106         141          0.751773\n[0.4, 0.5)        291         330          0.881818\n[0.5, 0.6)         65          70          0.928571\n[0.6, 0.7)         79          84          0.940476\n[0.7, 0.8)        104         105          0.990476\n[0.8, 0.9)        109         109          1.000000\n[0.9, 1.0)        127         127          1.000000",
            "text/html": "\n            \u003cbutton style\u003d\"display:none\" \n            class\u003d\"btn btn-default ipython-export-btn\" \n            id\u003d\"btn-df-2ba796e9-05de-45a2-af83-d21edd7f1e54\" \n            onclick\u003d\"_export_df(\u00272ba796e9-05de-45a2-af83-d21edd7f1e54\u0027)\"\u003e\n                Export dataframe\n            \u003c/button\u003e\n            \n            \u003cscript\u003e\n                \n                function _check_export_df_possible(dfid,yes_fn,no_fn) {\n                    console.log(\u0027Checking dataframe exportability...\u0027)\n                    if(!IPython || !IPython.notebook || !IPython.notebook.kernel || !IPython.notebook.kernel) {\n                        console.log(\u0027Export is not possible (IPython kernel is not available)\u0027)\n                        if(no_fn) {\n                            no_fn();\n                        }\n                    } else {\n                        var pythonCode \u003d \u0027from dataiku.notebook.export import IPythonExporter;IPythonExporter._check_export_stdout(\"\u0027+dfid+\u0027\")\u0027;\n                        IPython.notebook.kernel.execute(pythonCode,{iopub: {output: function(resp) {\n                            console.info(\"Exportability response\", resp);\n                            var size \u003d /^([0-9]+)x([0-9]+)$/.exec(resp.content.data || resp.content.text)\n                            if(!size) {\n                                console.log(\u0027Export is not possible (dataframe is not in-memory anymore)\u0027)\n                                if(no_fn) {\n                                    no_fn();\n                                }\n                            } else {\n                                console.log(\u0027Export is possible\u0027)\n                                if(yes_fn) {\n                                    yes_fn(1*size[1],1*size[2]);\n                                }\n                            }\n                        }}});\n                    }\n                }\n            \n                function _export_df(dfid) {\n                    \n                    var btn \u003d $(\u0027#btn-df-\u0027+dfid);\n                    var btns \u003d $(\u0027.ipython-export-btn\u0027);\n                    \n                    _check_export_df_possible(dfid,function() {\n                        \n                        window.parent.openExportModalFromIPython(\u0027Pandas dataframe\u0027,function(data) {\n                            btns.prop(\u0027disabled\u0027,true);\n                            btn.text(\u0027Exporting...\u0027);\n                            var command \u003d \u0027from dataiku.notebook.export import IPythonExporter;IPythonExporter._run_export(\"\u0027+dfid+\u0027\",\"\u0027+data.exportId+\u0027\")\u0027;\n                            var callback \u003d {iopub:{output: function(resp) {\n                                console.info(\"CB resp:\", resp);\n                                _check_export_df_possible(dfid,function(rows, cols) {\n                                    $(\u0027#btn-df-\u0027+dfid)\n                                        .css(\u0027display\u0027,\u0027inline-block\u0027)\n                                        .text(\u0027Export this dataframe (\u0027+rows+\u0027 rows, \u0027+cols+\u0027 cols)\u0027)\n                                        .prop(\u0027disabled\u0027,false);\n                                },function() {\n                                    $(\u0027#btn-df-\u0027+dfid).css(\u0027display\u0027,\u0027none\u0027);\n                                });\n                            }}};\n                            IPython.notebook.kernel.execute(command,callback,{silent:false}); // yes, silent now defaults to true. figures.\n                        });\n                    \n                    }, function(){\n                            alert(\u0027Unable to export : the Dataframe object is not loaded in memory\u0027);\n                            btn.css(\u0027display\u0027,\u0027none\u0027);\n                    });\n                    \n                }\n                \n                (function(dfid) {\n                \n                    var retryCount \u003d 10;\n                \n                    function is_valid_websock(s) {\n                        return s \u0026\u0026 s.readyState\u003d\u003d1;\n                    }\n                \n                    function check_conn() {\n                        \n                        if(!IPython || !IPython.notebook) {\n                            // Don\u0027t even try to go further\n                            return;\n                        }\n                        \n                        // Check if IPython is ready\n                        console.info(\"Checking conn ...\")\n                        if(IPython.notebook.kernel\n                        \u0026\u0026 IPython.notebook.kernel\n                        \u0026\u0026 is_valid_websock(IPython.notebook.kernel.ws)\n                        ) {\n                            \n                            _check_export_df_possible(dfid,function(rows, cols) {\n                                $(\u0027#btn-df-\u0027+dfid).css(\u0027display\u0027,\u0027inline-block\u0027);\n                                $(\u0027#btn-df-\u0027+dfid).text(\u0027Export this dataframe (\u0027+rows+\u0027 rows, \u0027+cols+\u0027 cols)\u0027);\n                            });\n                            \n                        } else {\n                            console.info(\"Conditions are not ok\", IPython.notebook.kernel);\n                            \n                            // Retry later\n                            \n                            if(retryCount\u003e0) {\n                                setTimeout(check_conn,500);\n                                retryCount--;\n                            }\n                            \n                        }\n                    };\n                    \n                    setTimeout(check_conn,100);\n                    \n                })(\"2ba796e9-05de-45a2-af83-d21edd7f1e54\");\n                \n            \u003c/script\u003e\n            \n        \u003cdiv\u003e\n\u003cstyle scoped\u003e\n    .dataframe tbody tr th:only-of-type {\n        vertical-align: middle;\n    }\n\n    .dataframe tbody tr th {\n        vertical-align: top;\n    }\n\n    .dataframe thead th {\n        text-align: right;\n    }\n\u003c/style\u003e\n\u003ctable border\u003d\"1\" class\u003d\"dataframe\"\u003e\n  \u003cthead\u003e\n    \u003ctr style\u003d\"text-align: right;\"\u003e\n      \u003cth\u003e\u003c/th\u003e\n      \u003cth\u003esum_true\u003c/th\u003e\n      \u003cth\u003ecount_pred\u003c/th\u003e\n      \u003cth\u003evalidation_ratio\u003c/th\u003e\n    \u003c/tr\u003e\n    \u003ctr\u003e\n      \u003cth\u003edecile\u003c/th\u003e\n      \u003cth\u003e\u003c/th\u003e\n      \u003cth\u003e\u003c/th\u003e\n      \u003cth\u003e\u003c/th\u003e\n    \u003c/tr\u003e\n  \u003c/thead\u003e\n  \u003ctbody\u003e\n    \u003ctr\u003e\n      \u003cth\u003e[0.03, 0.1)\u003c/th\u003e\n      \u003ctd\u003e0\u003c/td\u003e\n      \u003ctd\u003e5\u003c/td\u003e\n      \u003ctd\u003e0.000000\u003c/td\u003e\n    \u003c/tr\u003e\n    \u003ctr\u003e\n      \u003cth\u003e[0.1, 0.2)\u003c/th\u003e\n      \u003ctd\u003e1\u003c/td\u003e\n      \u003ctd\u003e2\u003c/td\u003e\n      \u003ctd\u003e0.500000\u003c/td\u003e\n    \u003c/tr\u003e\n    \u003ctr\u003e\n      \u003cth\u003e[0.2, 0.3)\u003c/th\u003e\n      \u003ctd\u003e17\u003c/td\u003e\n      \u003ctd\u003e27\u003c/td\u003e\n      \u003ctd\u003e0.629630\u003c/td\u003e\n    \u003c/tr\u003e\n    \u003ctr\u003e\n      \u003cth\u003e[0.3, 0.4)\u003c/th\u003e\n      \u003ctd\u003e106\u003c/td\u003e\n      \u003ctd\u003e141\u003c/td\u003e\n      \u003ctd\u003e0.751773\u003c/td\u003e\n    \u003c/tr\u003e\n    \u003ctr\u003e\n      \u003cth\u003e[0.4, 0.5)\u003c/th\u003e\n      \u003ctd\u003e291\u003c/td\u003e\n      \u003ctd\u003e330\u003c/td\u003e\n      \u003ctd\u003e0.881818\u003c/td\u003e\n    \u003c/tr\u003e\n    \u003ctr\u003e\n      \u003cth\u003e[0.5, 0.6)\u003c/th\u003e\n      \u003ctd\u003e65\u003c/td\u003e\n      \u003ctd\u003e70\u003c/td\u003e\n      \u003ctd\u003e0.928571\u003c/td\u003e\n    \u003c/tr\u003e\n    \u003ctr\u003e\n      \u003cth\u003e[0.6, 0.7)\u003c/th\u003e\n      \u003ctd\u003e79\u003c/td\u003e\n      \u003ctd\u003e84\u003c/td\u003e\n      \u003ctd\u003e0.940476\u003c/td\u003e\n    \u003c/tr\u003e\n    \u003ctr\u003e\n      \u003cth\u003e[0.7, 0.8)\u003c/th\u003e\n      \u003ctd\u003e104\u003c/td\u003e\n      \u003ctd\u003e105\u003c/td\u003e\n      \u003ctd\u003e0.990476\u003c/td\u003e\n    \u003c/tr\u003e\n    \u003ctr\u003e\n      \u003cth\u003e[0.8, 0.9)\u003c/th\u003e\n      \u003ctd\u003e109\u003c/td\u003e\n      \u003ctd\u003e109\u003c/td\u003e\n      \u003ctd\u003e1.000000\u003c/td\u003e\n    \u003c/tr\u003e\n    \u003ctr\u003e\n      \u003cth\u003e[0.9, 1.0)\u003c/th\u003e\n      \u003ctd\u003e127\u003c/td\u003e\n      \u003ctd\u003e127\u003c/td\u003e\n      \u003ctd\u003e1.000000\u003c/td\u003e\n    \u003c/tr\u003e\n  \u003c/tbody\u003e\n\u003c/table\u003e\n\u003c/div\u003e"
          },
          "metadata": {}
        }
      ]
    },
    {
      "execution_count": 71,
      "cell_type": "code",
      "metadata": {},
      "source": [
        "%matplotlib inline   \n\nlabels \u003d list(df_by_deciles.index.astype(str))\nlabels.sort()\nsum_true \u003d list(df_by_deciles.sum_true)\ncount_pred \u003d list(df_by_deciles.count_pred)\nwidth \u003d 0.5 # the width of the bars\n\nfig, ax \u003d plt.subplots()\nax.bar(labels, sum_true, width, label\u003d\u0027sum_true\u0027)\nax.bar(labels, count_pred, width, bottom\u003dsum_true, label\u003d\u0027count_pred\u0027)\n\nax.set_ylabel(\u0027Volume\u0027)\n#ax.set_title(\u0027Scores by group and gender\u0027)\nax.legend()\n\nplt.show()"
      ],
      "outputs": [
        {
          "output_type": "display_data",
          "data": {
            "text/plain": "\u003cFigure size 432x288 with 1 Axes\u003e",
            "image/png": "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\u003d\u003d\n"
          },
          "metadata": {}
        }
      ]
    },
    {
      "execution_count": 0,
      "cell_type": "code",
      "metadata": {},
      "source": [
        "# Write recipe outputs\ndata_viz \u003d dataiku.Folder(\"ofSVU3Pe\")\ndata_viz_info \u003d data_viz.get_info()"
      ],
      "outputs": []
    },
    {
      "execution_count": 0,
      "cell_type": "code",
      "metadata": {},
      "source": [
        ""
      ],
      "outputs": []
    }
  ]
}