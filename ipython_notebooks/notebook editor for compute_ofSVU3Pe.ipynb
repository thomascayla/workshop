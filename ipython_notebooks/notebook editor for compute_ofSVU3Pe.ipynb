{
  "metadata": {
    "kernelspec": {
      "name": "python3",
      "display_name": "Python 3",
      "language": "python"
    },
    "associatedRecipe": "compute_ofSVU3Pe",
    "creator": "admin",
    "createdOn": 1669043388937,
    "tags": [
      "recipe-editor"
    ],
    "customFields": {},
    "hide_input": false,
    "language_info": {
      "name": "python",
      "version": "3.7.13",
      "mimetype": "text/x-python",
      "codemirror_mode": {
        "name": "ipython",
        "version": 3
      },
      "pygments_lexer": "ipython3",
      "nbconvert_exporter": "python",
      "file_extension": ".py"
    },
    "modifiedBy": "admin"
  },
  "nbformat": 4,
  "nbformat_minor": 1,
  "cells": [
    {
      "execution_count": 6,
      "cell_type": "code",
      "metadata": {},
      "source": [
        "# -*- coding: utf-8 -*-\nimport dataiku\nimport pandas as pd, numpy as np\nfrom dataiku import pandasutils as pdu\nimport matplotlib.pyplot as plt"
      ],
      "outputs": []
    },
    {
      "execution_count": 8,
      "cell_type": "code",
      "metadata": {},
      "source": [
        "# Read recipe inputs\ntransactions_known_scored \u003d dataiku.Dataset(\"transactions_known_scored\").get_dataframe(limit\u003d1000)\ntransactions_known_scored.set_index(\u0027transaction_id\u0027, inplace\u003dTrue)"
      ],
      "outputs": []
    },
    {
      "execution_count": 9,
      "cell_type": "code",
      "metadata": {},
      "source": [
        "list_var \u003d [\u0027authorized_flag\u0027,\u0027proba_1\u0027]\ntransactions_known_scored[list_var].head()"
      ],
      "outputs": [
        {
          "output_type": "execute_result",
          "execution_count": 9,
          "data": {
            "text/plain": "                authorized_flag   proba_1\ntransaction_id                           \n83364                         1  0.412098\n83365                         0  0.739107\n83367                         1  0.506284\n83376                         1  0.426553\n83380                         1  0.684187",
            "text/html": "\n            \u003cbutton style\u003d\"display:none\" \n            class\u003d\"btn btn-default ipython-export-btn\" \n            id\u003d\"btn-df-1d20fc0e-72d7-4acd-9ea4-7dbb13f532cf\" \n            onclick\u003d\"_export_df(\u00271d20fc0e-72d7-4acd-9ea4-7dbb13f532cf\u0027)\"\u003e\n                Export dataframe\n            \u003c/button\u003e\n            \n            \u003cscript\u003e\n                \n                function _check_export_df_possible(dfid,yes_fn,no_fn) {\n                    console.log(\u0027Checking dataframe exportability...\u0027)\n                    if(!IPython || !IPython.notebook || !IPython.notebook.kernel || !IPython.notebook.kernel) {\n                        console.log(\u0027Export is not possible (IPython kernel is not available)\u0027)\n                        if(no_fn) {\n                            no_fn();\n                        }\n                    } else {\n                        var pythonCode \u003d \u0027from dataiku.notebook.export import IPythonExporter;IPythonExporter._check_export_stdout(\"\u0027+dfid+\u0027\")\u0027;\n                        IPython.notebook.kernel.execute(pythonCode,{iopub: {output: function(resp) {\n                            console.info(\"Exportability response\", resp);\n                            var size \u003d /^([0-9]+)x([0-9]+)$/.exec(resp.content.data || resp.content.text)\n                            if(!size) {\n                                console.log(\u0027Export is not possible (dataframe is not in-memory anymore)\u0027)\n                                if(no_fn) {\n                                    no_fn();\n                                }\n                            } else {\n                                console.log(\u0027Export is possible\u0027)\n                                if(yes_fn) {\n                                    yes_fn(1*size[1],1*size[2]);\n                                }\n                            }\n                        }}});\n                    }\n                }\n            \n                function _export_df(dfid) {\n                    \n                    var btn \u003d $(\u0027#btn-df-\u0027+dfid);\n                    var btns \u003d $(\u0027.ipython-export-btn\u0027);\n                    \n                    _check_export_df_possible(dfid,function() {\n                        \n                        window.parent.openExportModalFromIPython(\u0027Pandas dataframe\u0027,function(data) {\n                            btns.prop(\u0027disabled\u0027,true);\n                            btn.text(\u0027Exporting...\u0027);\n                            var command \u003d \u0027from dataiku.notebook.export import IPythonExporter;IPythonExporter._run_export(\"\u0027+dfid+\u0027\",\"\u0027+data.exportId+\u0027\")\u0027;\n                            var callback \u003d {iopub:{output: function(resp) {\n                                console.info(\"CB resp:\", resp);\n                                _check_export_df_possible(dfid,function(rows, cols) {\n                                    $(\u0027#btn-df-\u0027+dfid)\n                                        .css(\u0027display\u0027,\u0027inline-block\u0027)\n                                        .text(\u0027Export this dataframe (\u0027+rows+\u0027 rows, \u0027+cols+\u0027 cols)\u0027)\n                                        .prop(\u0027disabled\u0027,false);\n                                },function() {\n                                    $(\u0027#btn-df-\u0027+dfid).css(\u0027display\u0027,\u0027none\u0027);\n                                });\n                            }}};\n                            IPython.notebook.kernel.execute(command,callback,{silent:false}); // yes, silent now defaults to true. figures.\n                        });\n                    \n                    }, function(){\n                            alert(\u0027Unable to export : the Dataframe object is not loaded in memory\u0027);\n                            btn.css(\u0027display\u0027,\u0027none\u0027);\n                    });\n                    \n                }\n                \n                (function(dfid) {\n                \n                    var retryCount \u003d 10;\n                \n                    function is_valid_websock(s) {\n                        return s \u0026\u0026 s.readyState\u003d\u003d1;\n                    }\n                \n                    function check_conn() {\n                        \n                        if(!IPython || !IPython.notebook) {\n                            // Don\u0027t even try to go further\n                            return;\n                        }\n                        \n                        // Check if IPython is ready\n                        console.info(\"Checking conn ...\")\n                        if(IPython.notebook.kernel\n                        \u0026\u0026 IPython.notebook.kernel\n                        \u0026\u0026 is_valid_websock(IPython.notebook.kernel.ws)\n                        ) {\n                            \n                            _check_export_df_possible(dfid,function(rows, cols) {\n                                $(\u0027#btn-df-\u0027+dfid).css(\u0027display\u0027,\u0027inline-block\u0027);\n                                $(\u0027#btn-df-\u0027+dfid).text(\u0027Export this dataframe (\u0027+rows+\u0027 rows, \u0027+cols+\u0027 cols)\u0027);\n                            });\n                            \n                        } else {\n                            console.info(\"Conditions are not ok\", IPython.notebook.kernel);\n                            \n                            // Retry later\n                            \n                            if(retryCount\u003e0) {\n                                setTimeout(check_conn,500);\n                                retryCount--;\n                            }\n                            \n                        }\n                    };\n                    \n                    setTimeout(check_conn,100);\n                    \n                })(\"1d20fc0e-72d7-4acd-9ea4-7dbb13f532cf\");\n                \n            \u003c/script\u003e\n            \n        \u003cdiv\u003e\n\u003cstyle scoped\u003e\n    .dataframe tbody tr th:only-of-type {\n        vertical-align: middle;\n    }\n\n    .dataframe tbody tr th {\n        vertical-align: top;\n    }\n\n    .dataframe thead th {\n        text-align: right;\n    }\n\u003c/style\u003e\n\u003ctable border\u003d\"1\" class\u003d\"dataframe\"\u003e\n  \u003cthead\u003e\n    \u003ctr style\u003d\"text-align: right;\"\u003e\n      \u003cth\u003e\u003c/th\u003e\n      \u003cth\u003eauthorized_flag\u003c/th\u003e\n      \u003cth\u003eproba_1\u003c/th\u003e\n    \u003c/tr\u003e\n    \u003ctr\u003e\n      \u003cth\u003etransaction_id\u003c/th\u003e\n      \u003cth\u003e\u003c/th\u003e\n      \u003cth\u003e\u003c/th\u003e\n    \u003c/tr\u003e\n  \u003c/thead\u003e\n  \u003ctbody\u003e\n    \u003ctr\u003e\n      \u003cth\u003e83364\u003c/th\u003e\n      \u003ctd\u003e1\u003c/td\u003e\n      \u003ctd\u003e0.412098\u003c/td\u003e\n    \u003c/tr\u003e\n    \u003ctr\u003e\n      \u003cth\u003e83365\u003c/th\u003e\n      \u003ctd\u003e0\u003c/td\u003e\n      \u003ctd\u003e0.739107\u003c/td\u003e\n    \u003c/tr\u003e\n    \u003ctr\u003e\n      \u003cth\u003e83367\u003c/th\u003e\n      \u003ctd\u003e1\u003c/td\u003e\n      \u003ctd\u003e0.506284\u003c/td\u003e\n    \u003c/tr\u003e\n    \u003ctr\u003e\n      \u003cth\u003e83376\u003c/th\u003e\n      \u003ctd\u003e1\u003c/td\u003e\n      \u003ctd\u003e0.426553\u003c/td\u003e\n    \u003c/tr\u003e\n    \u003ctr\u003e\n      \u003cth\u003e83380\u003c/th\u003e\n      \u003ctd\u003e1\u003c/td\u003e\n      \u003ctd\u003e0.684187\u003c/td\u003e\n    \u003c/tr\u003e\n  \u003c/tbody\u003e\n\u003c/table\u003e\n\u003c/div\u003e"
          },
          "metadata": {}
        }
      ]
    },
    {
      "execution_count": 31,
      "cell_type": "code",
      "metadata": {},
      "source": [
        "df \u003d transactions_known_scored[list_var]\ndf[\u0027decile\u0027] \u003d pd.cut(x\u003ddf.proba_1, bins\u003d10, precision\u003d1, right\u003dTrue, include_lowest\u003dTrue)\ndf.head()"
      ],
      "outputs": [
        {
          "output_type": "stream",
          "text": "/Users/thomascayla/Documents/DSS/dataiku-dss-11.0.0-osx/python37.packages/ipykernel_launcher.py:2: SettingWithCopyWarning: \nA value is trying to be set on a copy of a slice from a DataFrame.\nTry using .loc[row_indexer,col_indexer] \u003d value instead\n\nSee the caveats in the documentation: http://pandas.pydata.org/pandas-docs/stable/indexing.html#indexing-view-versus-copy\n  \n",
          "name": "stderr"
        },
        {
          "output_type": "execute_result",
          "execution_count": 31,
          "data": {
            "text/plain": "                authorized_flag   proba_1      decile\ntransaction_id                                       \n83364                         1  0.412098  (0.4, 0.5]\n83365                         0  0.739107  (0.7, 0.8]\n83367                         1  0.506284  (0.4, 0.5]\n83376                         1  0.426553  (0.4, 0.5]\n83380                         1  0.684187  (0.6, 0.7]",
            "text/html": "\n            \u003cbutton style\u003d\"display:none\" \n            class\u003d\"btn btn-default ipython-export-btn\" \n            id\u003d\"btn-df-7cf8a4ce-4043-4c0b-99ea-19d141825980\" \n            onclick\u003d\"_export_df(\u00277cf8a4ce-4043-4c0b-99ea-19d141825980\u0027)\"\u003e\n                Export dataframe\n            \u003c/button\u003e\n            \n            \u003cscript\u003e\n                \n                function _check_export_df_possible(dfid,yes_fn,no_fn) {\n                    console.log(\u0027Checking dataframe exportability...\u0027)\n                    if(!IPython || !IPython.notebook || !IPython.notebook.kernel || !IPython.notebook.kernel) {\n                        console.log(\u0027Export is not possible (IPython kernel is not available)\u0027)\n                        if(no_fn) {\n                            no_fn();\n                        }\n                    } else {\n                        var pythonCode \u003d \u0027from dataiku.notebook.export import IPythonExporter;IPythonExporter._check_export_stdout(\"\u0027+dfid+\u0027\")\u0027;\n                        IPython.notebook.kernel.execute(pythonCode,{iopub: {output: function(resp) {\n                            console.info(\"Exportability response\", resp);\n                            var size \u003d /^([0-9]+)x([0-9]+)$/.exec(resp.content.data || resp.content.text)\n                            if(!size) {\n                                console.log(\u0027Export is not possible (dataframe is not in-memory anymore)\u0027)\n                                if(no_fn) {\n                                    no_fn();\n                                }\n                            } else {\n                                console.log(\u0027Export is possible\u0027)\n                                if(yes_fn) {\n                                    yes_fn(1*size[1],1*size[2]);\n                                }\n                            }\n                        }}});\n                    }\n                }\n            \n                function _export_df(dfid) {\n                    \n                    var btn \u003d $(\u0027#btn-df-\u0027+dfid);\n                    var btns \u003d $(\u0027.ipython-export-btn\u0027);\n                    \n                    _check_export_df_possible(dfid,function() {\n                        \n                        window.parent.openExportModalFromIPython(\u0027Pandas dataframe\u0027,function(data) {\n                            btns.prop(\u0027disabled\u0027,true);\n                            btn.text(\u0027Exporting...\u0027);\n                            var command \u003d \u0027from dataiku.notebook.export import IPythonExporter;IPythonExporter._run_export(\"\u0027+dfid+\u0027\",\"\u0027+data.exportId+\u0027\")\u0027;\n                            var callback \u003d {iopub:{output: function(resp) {\n                                console.info(\"CB resp:\", resp);\n                                _check_export_df_possible(dfid,function(rows, cols) {\n                                    $(\u0027#btn-df-\u0027+dfid)\n                                        .css(\u0027display\u0027,\u0027inline-block\u0027)\n                                        .text(\u0027Export this dataframe (\u0027+rows+\u0027 rows, \u0027+cols+\u0027 cols)\u0027)\n                                        .prop(\u0027disabled\u0027,false);\n                                },function() {\n                                    $(\u0027#btn-df-\u0027+dfid).css(\u0027display\u0027,\u0027none\u0027);\n                                });\n                            }}};\n                            IPython.notebook.kernel.execute(command,callback,{silent:false}); // yes, silent now defaults to true. figures.\n                        });\n                    \n                    }, function(){\n                            alert(\u0027Unable to export : the Dataframe object is not loaded in memory\u0027);\n                            btn.css(\u0027display\u0027,\u0027none\u0027);\n                    });\n                    \n                }\n                \n                (function(dfid) {\n                \n                    var retryCount \u003d 10;\n                \n                    function is_valid_websock(s) {\n                        return s \u0026\u0026 s.readyState\u003d\u003d1;\n                    }\n                \n                    function check_conn() {\n                        \n                        if(!IPython || !IPython.notebook) {\n                            // Don\u0027t even try to go further\n                            return;\n                        }\n                        \n                        // Check if IPython is ready\n                        console.info(\"Checking conn ...\")\n                        if(IPython.notebook.kernel\n                        \u0026\u0026 IPython.notebook.kernel\n                        \u0026\u0026 is_valid_websock(IPython.notebook.kernel.ws)\n                        ) {\n                            \n                            _check_export_df_possible(dfid,function(rows, cols) {\n                                $(\u0027#btn-df-\u0027+dfid).css(\u0027display\u0027,\u0027inline-block\u0027);\n                                $(\u0027#btn-df-\u0027+dfid).text(\u0027Export this dataframe (\u0027+rows+\u0027 rows, \u0027+cols+\u0027 cols)\u0027);\n                            });\n                            \n                        } else {\n                            console.info(\"Conditions are not ok\", IPython.notebook.kernel);\n                            \n                            // Retry later\n                            \n                            if(retryCount\u003e0) {\n                                setTimeout(check_conn,500);\n                                retryCount--;\n                            }\n                            \n                        }\n                    };\n                    \n                    setTimeout(check_conn,100);\n                    \n                })(\"7cf8a4ce-4043-4c0b-99ea-19d141825980\");\n                \n            \u003c/script\u003e\n            \n        \u003cdiv\u003e\n\u003cstyle scoped\u003e\n    .dataframe tbody tr th:only-of-type {\n        vertical-align: middle;\n    }\n\n    .dataframe tbody tr th {\n        vertical-align: top;\n    }\n\n    .dataframe thead th {\n        text-align: right;\n    }\n\u003c/style\u003e\n\u003ctable border\u003d\"1\" class\u003d\"dataframe\"\u003e\n  \u003cthead\u003e\n    \u003ctr style\u003d\"text-align: right;\"\u003e\n      \u003cth\u003e\u003c/th\u003e\n      \u003cth\u003eauthorized_flag\u003c/th\u003e\n      \u003cth\u003eproba_1\u003c/th\u003e\n      \u003cth\u003edecile\u003c/th\u003e\n    \u003c/tr\u003e\n    \u003ctr\u003e\n      \u003cth\u003etransaction_id\u003c/th\u003e\n      \u003cth\u003e\u003c/th\u003e\n      \u003cth\u003e\u003c/th\u003e\n      \u003cth\u003e\u003c/th\u003e\n    \u003c/tr\u003e\n  \u003c/thead\u003e\n  \u003ctbody\u003e\n    \u003ctr\u003e\n      \u003cth\u003e83364\u003c/th\u003e\n      \u003ctd\u003e1\u003c/td\u003e\n      \u003ctd\u003e0.412098\u003c/td\u003e\n      \u003ctd\u003e(0.4, 0.5]\u003c/td\u003e\n    \u003c/tr\u003e\n    \u003ctr\u003e\n      \u003cth\u003e83365\u003c/th\u003e\n      \u003ctd\u003e0\u003c/td\u003e\n      \u003ctd\u003e0.739107\u003c/td\u003e\n      \u003ctd\u003e(0.7, 0.8]\u003c/td\u003e\n    \u003c/tr\u003e\n    \u003ctr\u003e\n      \u003cth\u003e83367\u003c/th\u003e\n      \u003ctd\u003e1\u003c/td\u003e\n      \u003ctd\u003e0.506284\u003c/td\u003e\n      \u003ctd\u003e(0.4, 0.5]\u003c/td\u003e\n    \u003c/tr\u003e\n    \u003ctr\u003e\n      \u003cth\u003e83376\u003c/th\u003e\n      \u003ctd\u003e1\u003c/td\u003e\n      \u003ctd\u003e0.426553\u003c/td\u003e\n      \u003ctd\u003e(0.4, 0.5]\u003c/td\u003e\n    \u003c/tr\u003e\n    \u003ctr\u003e\n      \u003cth\u003e83380\u003c/th\u003e\n      \u003ctd\u003e1\u003c/td\u003e\n      \u003ctd\u003e0.684187\u003c/td\u003e\n      \u003ctd\u003e(0.6, 0.7]\u003c/td\u003e\n    \u003c/tr\u003e\n  \u003c/tbody\u003e\n\u003c/table\u003e\n\u003c/div\u003e"
          },
          "metadata": {}
        }
      ]
    },
    {
      "execution_count": 34,
      "cell_type": "code",
      "metadata": {},
      "source": [
        "df[\u0027decile\u0027].min"
      ],
      "outputs": [
        {
          "output_type": "execute_result",
          "execution_count": 34,
          "data": {
            "text/plain": "\u003cbound method Series.min of transaction_id\n83364    (0.4, 0.5]\n83365    (0.7, 0.8]\n83367    (0.4, 0.5]\n83376    (0.4, 0.5]\n83380    (0.6, 0.7]\n83393    (0.6, 0.7]\n83394    (0.3, 0.4]\n83402    (0.6, 0.7]\n83403    (0.4, 0.5]\n83410    (0.4, 0.5]\n83414    (0.5, 0.6]\n83417    (0.5, 0.6]\n83422    (0.3, 0.4]\n83426    (0.4, 0.5]\n83427    (0.3, 0.4]\n83429    (0.4, 0.5]\n83437    (0.4, 0.5]\n83439    (0.7, 0.8]\n83441    (0.9, 1.0]\n83443    (0.7, 0.8]\n83445    (0.3, 0.4]\n83448    (0.9, 1.0]\n83452    (0.4, 0.5]\n83459    (0.4, 0.5]\n83460    (0.9, 1.0]\n83462    (0.3, 0.4]\n83463    (0.9, 1.0]\n83465    (0.3, 0.4]\n83466    (0.4, 0.5]\n83467    (0.6, 0.7]\n83470    (0.4, 0.5]\n83476    (0.4, 0.5]\n83477    (0.4, 0.5]\n83478    (0.6, 0.7]\n83483    (0.4, 0.5]\n83487    (0.5, 0.6]\n83496    (0.3, 0.4]\n83497    (0.4, 0.5]\n83499    (0.4, 0.5]\n83500    (0.6, 0.7]\n83501    (0.5, 0.6]\n83504    (0.7, 0.8]\n87934    (0.3, 0.4]\n87936    (0.2, 0.3]\n87937    (0.7, 0.8]\n87939    (0.2, 0.3]\n87940    (0.9, 1.0]\n87944    (0.9, 1.0]\n87948    (0.9, 1.0]\n87949    (0.6, 0.7]\n87951    (0.8, 0.9]\n87958    (0.9, 1.0]\n87960    (0.8, 0.9]\n87963    (0.5, 0.6]\n87969    (0.7, 0.8]\n87973    (0.3, 0.4]\n87980    (0.8, 0.9]\n87990    (0.3, 0.4]\n87991    (0.4, 0.5]\n87994    (0.4, 0.5]\n87998    (0.6, 0.7]\n88004    (0.4, 0.5]\n88005    (0.7, 0.8]\n88010    (0.3, 0.4]\n88012    (0.9, 1.0]\n88013    (0.6, 0.7]\n88014    (0.4, 0.5]\n88017    (0.9, 1.0]\n88019    (0.4, 0.5]\n88025    (0.3, 0.4]\n88027    (0.5, 0.6]\n88034    (0.4, 0.5]\n88041    (0.3, 0.4]\n88049    (0.6, 0.7]\n88050    (0.9, 1.0]\n88053    (0.7, 0.8]\n88058    (0.3, 0.4]\n88069    (0.3, 0.4]\n88073    (0.4, 0.5]\n88077    (0.4, 0.5]\n88078    (0.6, 0.7]\n88079    (0.4, 0.5]\n88082    (0.5, 0.6]\n88084    (0.4, 0.5]\n88092    (0.3, 0.4]\n88098    (0.3, 0.4]\n88099    (0.3, 0.4]\n88101    (0.3, 0.4]\n88107    (0.8, 0.9]\n88116    (0.9, 1.0]\n88117    (0.9, 1.0]\n88119    (0.5, 0.6]\n88124    (0.4, 0.5]\n88125    (0.3, 0.4]\n88129    (0.9, 1.0]\n88130    (0.8, 0.9]\n88131    (0.9, 1.0]\n88133    (0.9, 1.0]\n88136    (0.4, 0.5]\n88137    (0.4, 0.5]\n88141    (0.4, 0.5]\n88142    (0.8, 0.9]\n88144    (0.9, 1.0]\n88150    (0.4, 0.5]\n88151    (0.7, 0.8]\n            ...    \n82723    (0.4, 0.5]\n82727    (0.5, 0.6]\n82730    (0.4, 0.5]\n82737    (0.5, 0.6]\n82739    (0.6, 0.7]\n82740    (0.3, 0.4]\n82743    (0.8, 0.9]\n82750    (0.9, 1.0]\n82943    (0.8, 0.9]\n82753    (0.8, 0.9]\n82754    (0.3, 0.4]\n82761    (0.3, 0.4]\n82762    (0.4, 0.5]\n82768    (0.3, 0.4]\n82776    (0.4, 0.5]\n82777    (0.5, 0.6]\n82779    (0.8, 0.9]\n82787    (0.4, 0.5]\n82790    (0.4, 0.5]\n82792    (0.6, 0.7]\n82793    (0.8, 0.9]\n82794    (0.6, 0.7]\n82796    (0.4, 0.5]\n82797    (0.4, 0.5]\n82808    (0.4, 0.5]\n82814    (0.5, 0.6]\n82819    (0.8, 0.9]\n82828    (0.8, 0.9]\n82829    (0.4, 0.5]\n82834    (0.3, 0.4]\n82836    (0.4, 0.5]\n82837    (0.9, 1.0]\n82841    (0.9, 1.0]\n82845    (0.4, 0.5]\n82851    (0.3, 0.4]\n82853    (0.4, 0.5]\n82861    (0.9, 1.0]\n82866    (0.4, 0.5]\n82870    (0.2, 0.3]\n82882    (0.5, 0.6]\n82883    (0.4, 0.5]\n82886    (0.4, 0.5]\n82889    (0.8, 0.9]\n82900    (0.9, 1.0]\n82901    (0.4, 0.5]\n82913    (0.6, 0.7]\n82914    (0.4, 0.5]\n82925    (0.3, 0.4]\n82940    (0.5, 0.6]\n82952    (0.3, 0.4]\n82956    (0.4, 0.5]\n82963    (0.4, 0.5]\n82966    (0.4, 0.5]\n82967    (0.9, 1.0]\n82968    (0.4, 0.5]\n82973    (0.7, 0.8]\n82988    (0.4, 0.5]\n82990    (0.3, 0.4]\n82994    (0.4, 0.5]\n82995    (0.4, 0.5]\n83000    (0.4, 0.5]\n83003    (0.2, 0.3]\n83005    (0.6, 0.7]\n83006    (0.6, 0.7]\n83014    (0.4, 0.5]\n83019    (0.9, 1.0]\n83029    (0.3, 0.4]\n83033    (0.7, 0.8]\n83035    (0.4, 0.5]\n83038    (0.3, 0.4]\n83040    (0.4, 0.5]\n83043    (0.3, 0.4]\n83046    (0.4, 0.5]\n83050    (0.4, 0.5]\n77840    (0.4, 0.5]\n77842    (0.4, 0.5]\n77849    (0.7, 0.8]\n77850    (0.7, 0.8]\n77851    (0.8, 0.9]\n77855    (0.4, 0.5]\n77860    (0.9, 1.0]\n77861    (0.8, 0.9]\n77866    (0.4, 0.5]\n77869    (0.6, 0.7]\n26425    (0.9, 1.0]\n77871    (0.8, 0.9]\n77874    (0.4, 0.5]\n77876    (0.9, 1.0]\n77880    (0.9, 1.0]\n77881    (0.5, 0.6]\n77891    (0.4, 0.5]\n77894    (0.3, 0.4]\n77895    (0.7, 0.8]\n77897    (0.7, 0.8]\n77900    (0.8, 0.9]\n77901    (0.8, 0.9]\n77902    (0.6, 0.7]\n77913    (0.4, 0.5]\n77920    (0.5, 0.6]\n77923    (0.4, 0.5]\n77925    (0.8, 0.9]\n77928    (0.3, 0.4]\n77931    (0.8, 0.9]\n77932    (0.8, 0.9]\n77947    (0.6, 0.7]\nName: decile, Length: 1000, dtype: category\nCategories (10, interval[float64]): [(-0.07, 0.1] \u003c (0.1, 0.2] \u003c (0.2, 0.3] \u003c (0.3, 0.4] ... (0.6, 0.7] \u003c (0.7, 0.8] \u003c (0.8, 0.9] \u003c (0.9, 1.0]]\u003e"
          },
          "metadata": {}
        }
      ]
    },
    {
      "execution_count": 32,
      "cell_type": "code",
      "metadata": {},
      "source": [
        "df[\u0027decile\u0027].value_counts()"
      ],
      "outputs": [
        {
          "output_type": "execute_result",
          "execution_count": 32,
          "data": {
            "text/plain": "(0.4, 0.5]      340\n(0.3, 0.4]      134\n(0.9, 1.0]      129\n(0.7, 0.8]      108\n(0.8, 0.9]      101\n(0.6, 0.7]       85\n(0.5, 0.6]       79\n(0.2, 0.3]       17\n(-0.07, 0.1]      4\n(0.1, 0.2]        3\nName: decile, dtype: int64"
          },
          "metadata": {}
        }
      ]
    },
    {
      "execution_count": 0,
      "cell_type": "code",
      "metadata": {},
      "source": [
        "# Write recipe outputs\ndata_viz \u003d dataiku.Folder(\"ofSVU3Pe\")\ndata_viz_info \u003d data_viz.get_info()"
      ],
      "outputs": []
    },
    {
      "execution_count": 0,
      "cell_type": "code",
      "metadata": {},
      "source": [
        ""
      ],
      "outputs": []
    }
  ]
}