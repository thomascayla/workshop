{
  "nbformat": 4,
  "nbformat_minor": 0,
  "metadata": {
    "kernelspec": {
      "display_name": "Python 3",
      "language": "python",
      "name": "python3"
    },
    "associatedRecipe": "compute_ofSVU3Pe",
    "dkuGit": {
      "lastInteraction": 0
    },
    "creationTag": {
      "versionNumber": 0,
      "lastModifiedBy": {
        "login": "admin"
      },
      "lastModifiedOn": 1669043388937
    },
    "creator": "admin",
    "createdOn": 1669043388937,
    "tags": [
      "recipe-editor"
    ],
    "customFields": {}
  },
  "cells": [
    {
      "cell_type": "code",
      "metadata": {},
      "outputs": [],
      "execution_count": 0,
      "source": [
        "# -*- coding: utf-8 -*-\n",
        "#%matplotlib inline\n",
        "import dataiku\n",
        "import pandas as pd, numpy as np\n",
        "from dataiku import pandasutils as pdu\n",
        "import matplotlib.pyplot as plt\n",
        "import os\n",
        "import seaborn as sns"
      ]
    },
    {
      "cell_type": "code",
      "metadata": {},
      "outputs": [],
      "execution_count": 0,
      "source": [
        "# Read recipe inputs\n",
        "transactions_known_scored \u003d dataiku.Dataset(\"transactions_known_scored\").get_dataframe()"
      ]
    },
    {
      "cell_type": "code",
      "metadata": {},
      "outputs": [],
      "execution_count": 0,
      "source": [
        "list_var \u003d [\u0027authorized_flag\u0027,\u0027proba_1\u0027]\n",
        "transactions_known_scored \u003d transactions_known_scored[list_var]\n",
        "transactions_known_scored[\u0027decile\u0027] \u003d pd.cut(x\u003dtransactions_known_scored.proba_1,\n",
        "                                             bins\u003d10, precision\u003d1, right\u003dFalse)\n",
        "transactions_known_scored.decile \u003d transactions_known_scored.decile.astype(str)"
      ]
    },
    {
      "cell_type": "code",
      "metadata": {},
      "outputs": [],
      "execution_count": 0,
      "source": [
        "col_names \u003d {\u0027authorized_flag\u0027:\u0027sum_true\u0027, \u0027proba_1\u0027:\u0027count_pred\u0027}\n",
        "df_by_deciles \u003d transactions_known_scored.groupby(by\u003d\u0027decile\u0027).agg({\u0027authorized_flag\u0027:\u0027sum\u0027,\n",
        "                                                                    \u0027proba_1\u0027:\u0027count\u0027}).rename(columns\u003dcol_names)"
      ]
    },
    {
      "cell_type": "code",
      "metadata": {},
      "outputs": [],
      "execution_count": 0,
      "source": [
        "df_by_deciles[\u0027validation_ratio\u0027] \u003d df_by_deciles.sum_true/df_by_deciles.count_pred\n",
        "df_by_deciles.sort_index(ascending\u003dTrue, inplace\u003dTrue)"
      ]
    },
    {
      "cell_type": "code",
      "metadata": {},
      "outputs": [],
      "execution_count": 0,
      "source": [
        "sns.set_style(\"ticks\",{\u0027axes.grid\u0027 : True})\n",
        "colors \u003d [\u0027#377eb8\u0027, \u0027#4daf4a\u0027]\n",
        "labels \u003d list(df_by_deciles.index)\n",
        "sum_true \u003d list(df_by_deciles.sum_true)\n",
        "count_pred \u003d list(df_by_deciles.count_pred)\n",
        "validation_ratio \u003d list(df_by_deciles.validation_ratio)\n",
        "width \u003d 2/3 # the width of the bars\n",
        "\n",
        "fig, ax1 \u003d plt.subplots(figsize\u003d(12, 6))\n",
        "ax1.bar(labels, count_pred, width, label\u003d\u0027count_pred\u0027, color\u003dcolors[0])\n",
        "ax1.bar(labels, sum_true, width, bottom\u003dcount_pred, label\u003d\u0027sum_true\u0027, color\u003dcolors[1])\n",
        "ax1.set_ylabel(\u0027Number of predictions vs true labels\u0027, color\u003dcolors[0])\n",
        "ax1.tick_params(\u0027y\u0027, colors\u003dcolors[0])\n",
        "ax1.legend(loc\u003d\u0027upper left\u0027)\n",
        "\n",
        "# .patches is everything inside of the chart\n",
        "for rect in ax1.patches:\n",
        "    # Find where everything is located\n",
        "    height \u003d rect.get_height()\n",
        "    width \u003d rect.get_width()\n",
        "    x \u003d rect.get_x()\n",
        "    y \u003d rect.get_y()\n",
        "\n",
        "    # The height of the bar is the data value and can be used as the label\n",
        "    label_text \u003d f\u0027{height:.0f}\u0027 #to format decimal values\n",
        "\n",
        "    # ax.text(x, y, text)\n",
        "    label_x \u003d x + width / 2\n",
        "    label_y \u003d y + height / 2\n",
        "\n",
        "    # plot only when height is greater than specified value\n",
        "    if height \u003e 0:\n",
        "        ax1.text(label_x, label_y, label_text, ha\u003d\u0027center\u0027, va\u003d\u0027center\u0027, fontsize\u003d12, color\u003d\u0027w\u0027, weight\u003d\u0027bold\u0027)\n",
        "\n",
        "\n",
        "ax2 \u003d ax1.twinx()\n",
        "color \u003d \u0027r\u0027\n",
        "ax2.plot(labels, validation_ratio, label\u003d\u0027True ratio\u0027, color\u003dcolor)\n",
        "ax2.set_ylabel(\u0027Percentage \u003d sum_true / count_pred\u0027, color\u003dcolor)\n",
        "ax2.tick_params(\u0027y\u0027, colors\u003dcolor)\n",
        "ax2.legend(loc\u003d\u0027upper right\u0027)\n",
        "\n",
        "# Add ratio value to each bar.\n",
        "for i, ratio in enumerate(validation_ratio):\n",
        "    ax2.text(df_by_deciles.validation_ratio.index[i], ratio, \u0027{:,.0%}\u0027.format(ratio), ha\u003d\u0027center\u0027,\n",
        "             weight\u003d\u0027bold\u0027, fontsize\u003d12)\n",
        "\n",
        "plt.title(\u0027True vs predicted observations by decile of probas (on the validation set)\u0027, fontsize\u003d16)\n",
        "fig.tight_layout()\n",
        "plt.show()"
      ]
    },
    {
      "cell_type": "code",
      "metadata": {},
      "outputs": [],
      "execution_count": 0,
      "source": [
        "## Vérifier qu\u0027on a les bons volumes (somme notamment) et commencer une review à présenter\n",
        "## Dans quelle table le mettre\n",
        "## Subject matter: all kind of binary classification (such as churn or engagement scoring)"
      ]
    },
    {
      "cell_type": "code",
      "metadata": {},
      "outputs": [],
      "execution_count": 0,
      "source": [
        "# Save plot to folder\n",
        "folder_for_plot \u003d dataiku.Folder(\"ofSVU3Pe\")\n",
        "folder_path \u003d folder_for_plot.get_path()\n",
        "\n",
        "path_fig \u003d os.path.join(folder_path, \"output.png\")\n",
        "plt.savefig(path_fig)"
      ]
    }
  ]
}