{
  "metadata": {
    "kernelspec": {
      "name": "python3",
      "display_name": "Python 3",
      "language": "python"
    },
    "associatedRecipe": "compute_ofSVU3Pe",
    "dkuGit": {
      "lastInteraction": 0
    },
    "creationTag": {
      "versionNumber": 0,
      "lastModifiedBy": {
        "login": "admin"
      },
      "lastModifiedOn": 1669043388937
    },
    "creator": "admin",
    "createdOn": 1669043388937,
    "tags": [
      "recipe-editor"
    ],
    "customFields": {},
    "hide_input": false,
    "language_info": {
      "name": "python",
      "version": "3.7.13",
      "mimetype": "text/x-python",
      "codemirror_mode": {
        "name": "ipython",
        "version": 3
      },
      "pygments_lexer": "ipython3",
      "nbconvert_exporter": "python",
      "file_extension": ".py"
    },
    "modifiedBy": "admin"
  },
  "nbformat": 4,
  "nbformat_minor": 1,
  "cells": [
    {
      "execution_count": 0,
      "cell_type": "code",
      "metadata": {},
      "source": [
        "# -*- coding: utf-8 -*-\n%matplotlib inline\nimport dataiku\nimport pandas as pd, numpy as np\nfrom dataiku import pandasutils as pdu\nimport matplotlib.pyplot as plt\nimport os\nimport seaborn as sns"
      ],
      "outputs": []
    },
    {
      "execution_count": 0,
      "cell_type": "code",
      "metadata": {},
      "source": [
        "# Read recipe inputs\ntransactions_evaluate \u003d dataiku.Dataset(\"transactions_evaluate\").get_dataframe()"
      ],
      "outputs": []
    },
    {
      "execution_count": 0,
      "cell_type": "code",
      "metadata": {},
      "source": [
        "list_var \u003d [\u0027authorized_flag\u0027,\u0027proba_1\u0027]\ntransactions_evaluate \u003d transactions_evaluate[list_var]\ntransactions_evaluate[\u0027decile\u0027] \u003d pd.cut(x\u003dtransactions_evaluate.proba_1,\n                                             bins\u003d10, precision\u003d1, right\u003dFalse)\ntransactions_evaluate.decile \u003d transactions_evaluate.decile.astype(str)"
      ],
      "outputs": []
    },
    {
      "execution_count": 0,
      "cell_type": "code",
      "metadata": {},
      "source": [
        "col_names \u003d {\u0027authorized_flag\u0027:\u0027sum_true\u0027, \u0027proba_1\u0027:\u0027count_pred\u0027}\ndf_by_deciles \u003d transactions_evaluate.groupby(by\u003d\u0027decile\u0027).agg({\u0027authorized_flag\u0027:\u0027sum\u0027,\n                                                                \u0027proba_1\u0027:\u0027count\u0027}).rename(columns\u003dcol_names)"
      ],
      "outputs": []
    },
    {
      "execution_count": 0,
      "cell_type": "code",
      "metadata": {},
      "source": [
        "df_by_deciles[\u0027validation_ratio\u0027] \u003d df_by_deciles.sum_true/df_by_deciles.count_pred\ndf_by_deciles.sort_index(ascending\u003dTrue, inplace\u003dTrue)"
      ],
      "outputs": []
    },
    {
      "execution_count": 0,
      "cell_type": "code",
      "metadata": {},
      "source": [
        "sns.set_style(\"ticks\",{\u0027axes.grid\u0027 : True})\ncolors \u003d [\u0027#377eb8\u0027, \u0027#4daf4a\u0027]\nlabels \u003d list(df_by_deciles.index)\nsum_true \u003d list(df_by_deciles.sum_true)\ncount_pred \u003d list(df_by_deciles.count_pred)\nvalidation_ratio \u003d list(df_by_deciles.validation_ratio)\nwidth \u003d 0.8 # the width of the bars\n\nfig, ax1 \u003d plt.subplots(figsize\u003d(12, 6))\nax1.bar(labels, count_pred, width, label\u003d\u0027count_pred\u0027, color\u003dcolors[0])\nax1.bar(labels, sum_true, width, bottom\u003dcount_pred, label\u003d\u0027sum_true\u0027, color\u003dcolors[1])\nax1.set_ylabel(\u0027Number of predictions vs true labels\u0027, color\u003dcolors[0])\nax1.tick_params(\u0027y\u0027, colors\u003dcolors[0])\nax1.legend(loc\u003d\u0027upper left\u0027)\nax1.set_xlabel(\u0027Probability estimates\u0027)\n\n# .patches is everything inside of the chart\nfor rect in ax1.patches:\n    # Find where everything is located\n    height \u003d rect.get_height()\n    width \u003d rect.get_width()\n    x \u003d rect.get_x()\n    y \u003d rect.get_y()\n\n    # The height of the bar is the data value and can be used as the label\n    label_text \u003d f\u0027{height:,.0f}\u0027 #to format decimal values\n\n    # ax1.text(x, y, text)\n    label_x \u003d x + width / 2\n    label_y \u003d y + height / 2\n    ax1.text(label_x, label_y, label_text, ha\u003d\u0027center\u0027, va\u003d\u0027center\u0027, fontsize\u003d12, color\u003d\u0027w\u0027, weight\u003d\u0027bold\u0027)\n\nax2 \u003d ax1.twinx()\ncolor \u003d \u0027r\u0027\nax2.plot(labels, validation_ratio, label\u003d\u0027True ratio\u0027, color\u003dcolor)\nax2.set_ylabel(\u0027Percentage \u003d sum_true / count_pred\u0027, color\u003dcolor)\nax2.tick_params(\u0027y\u0027, colors\u003dcolor)\nax2.legend(loc\u003d\u0027upper right\u0027)\n\n# Add ratio value to each bar.\nfor i, ratio in enumerate(validation_ratio):\n    ax2.text(df_by_deciles.validation_ratio.index[i], ratio, \u0027{:,.0%}\u0027.format(ratio), ha\u003d\u0027center\u0027,\n             weight\u003d\u0027bold\u0027, fontsize\u003d12)\n\nplt.title(\u0027True vs predicted observations by decile of probas (on the validation set)\u0027, fontsize\u003d16)\nplt.legend()\nfig.tight_layout()\nplt.show()"
      ],
      "outputs": []
    },
    {
      "execution_count": 0,
      "cell_type": "code",
      "metadata": {},
      "source": [
        "## Vérifier qu\u0027on a les bons volumes (somme notamment) et commencer une review à présenter\n## Dans quelle table le mettre\n## Subject matter: all kind of binary classification (such as churn or engagement scoring)\n## Join legend"
      ],
      "outputs": []
    },
    {
      "execution_count": 0,
      "cell_type": "code",
      "metadata": {},
      "source": [
        "# Save plot to folder\nfolder_for_plot \u003d dataiku.Folder(\"ofSVU3Pe\")\nfolder_path \u003d folder_for_plot.get_path()\n\npath_fig \u003d os.path.join(folder_path, \"output.png\")\nplt.savefig(path_fig)"
      ],
      "outputs": []
    }
  ]
}